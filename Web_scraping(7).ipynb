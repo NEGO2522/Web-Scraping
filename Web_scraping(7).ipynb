{
 "cells": [
  {
   "cell_type": "markdown",
   "id": "05f51d87-eee0-4442-8688-a08eb91d39d9",
   "metadata": {},
   "source": [
    "## Extractin link in Web Page Using Python"
   ]
  },
  {
   "cell_type": "code",
   "execution_count": 1,
   "id": "ca4a0b5b-b53d-4ae3-96a6-0b375512d10a",
   "metadata": {},
   "outputs": [],
   "source": [
    "import requests\n",
    "from bs4 import BeautifulSoup"
   ]
  },
  {
   "cell_type": "code",
   "execution_count": 6,
   "id": "c2871574-e9fa-4d11-b0e2-0165f17dff9d",
   "metadata": {},
   "outputs": [
    {
     "data": {
      "text/plain": [
       "200"
      ]
     },
     "execution_count": 6,
     "metadata": {},
     "output_type": "execute_result"
    }
   ],
   "source": [
    "web = requests.get(\"https://www.tutorialsfreak.com\")\n",
    "web.status_code"
   ]
  },
  {
   "cell_type": "code",
   "execution_count": 9,
   "id": "7fdc184e-cb5a-4ee9-8415-57bec96ce5d7",
   "metadata": {},
   "outputs": [],
   "source": [
    "soup = BeautifulSoup(web.content, \"html.parser\")"
   ]
  },
  {
   "cell_type": "code",
   "execution_count": 11,
   "id": "152f8082-de8d-4c76-b882-3d45556e9f90",
   "metadata": {
    "scrolled": true
   },
   "outputs": [],
   "source": [
    "# print(soup.prettify())"
   ]
  },
  {
   "cell_type": "code",
   "execution_count": 12,
   "id": "3a5bf336-79b0-4c7b-ae97-403af400ea0a",
   "metadata": {
    "scrolled": true
   },
   "outputs": [
    {
     "data": {
      "text/plain": [
       "[<a class=\"header-logo-wrapper\" href=\"/\"><span class=\"me-lg-5 navbar-brand\"><span style=\"box-sizing:border-box;display:inline-block;overflow:hidden;width:initial;height:initial;background:none;opacity:1;border:0;margin:0;padding:0;position:relative;max-width:100%\"><span style=\"box-sizing:border-box;display:block;width:initial;height:initial;background:none;opacity:1;border:0;margin:0;padding:0;max-width:100%\"><img alt=\"\" aria-hidden=\"true\" src=\"data:image/svg+xml,%3csvg%20xmlns=%27http://www.w3.org/2000/svg%27%20version=%271.1%27%20width=%27192%27%20height=%2756%27/%3e\" style=\"display:block;max-width:100%;width:initial;height:initial;background:none;opacity:1;border:0;margin:0;padding:0\"/></span><img alt=\"Logo-Img\" class=\"img-fluid\" data-nimg=\"intrinsic\" decoding=\"async\" src=\"data:image/gif;base64,R0lGODlhAQABAIAAAAAAAP///yH5BAEAAAAALAAAAAABAAEAAAIBRAA7\" style=\"position:absolute;top:0;left:0;bottom:0;right:0;box-sizing:border-box;padding:0;border:none;margin:auto;display:block;width:0;height:0;min-width:100%;max-width:100%;min-height:100%;max-height:100%\"/><noscript><img alt=\"Logo-Img\" class=\"img-fluid\" data-nimg=\"intrinsic\" decoding=\"async\" loading=\"lazy\" src=\"/images/tutorials-freak-logo.svg\" srcset=\"/images/tutorials-freak-logo.svg 1x, /images/tutorials-freak-logo.svg 2x\" style=\"position:absolute;top:0;left:0;bottom:0;right:0;box-sizing:border-box;padding:0;border:none;margin:auto;display:block;width:0;height:0;min-width:100%;max-width:100%;min-height:100%;max-height:100%\"/></noscript></span></span></a>,\n",
       " <a class=\"text-decoration-none\" href=\"/search\"><input aria-label=\"Search\" class=\"label-color-1 fw-500 fs-16 lh-24 bg-grey form-control\" placeholder=\"Search\" type=\"text\"/><span><img alt=\"Serch-Img\" src=\"/images/search.svg\"/></span></a>,\n",
       " <a href=\"/\"><img alt=\"Course-Img\" src=\"/images/kotlin-img.svg\"/></a>,\n",
       " <a href=\"/\"><img alt=\"Course-Img\" src=\"/images/eagle-img.svg\"/></a>,\n",
       " <a href=\"/\"><img alt=\"Course-Img\" src=\"/images/apple-img.svg\"/></a>,\n",
       " <a href=\"/\"><img alt=\"Course-Img\" src=\"/images/angular-img.svg\"/></a>,\n",
       " <a href=\"/\"><img alt=\"Course-Img\" src=\"/images/python-img.svg\"/></a>,\n",
       " <a href=\"/\"><img alt=\"Course-Img\" src=\"/images/react-img.svg\"/></a>,\n",
       " <a href=\"/\"><img alt=\"Course-Img\" src=\"/images/android-img.svg\"/></a>,\n",
       " <a href=\"/\"><img alt=\"Course-Img\" src=\"/images/java-img.svg\"/></a>,\n",
       " <a href=\"/compiler/c\" title=\"Online C Compiler (Free Editor for C Programs)\"><div class=\"course-compiler-card card\"><div class=\"card-body\"><div class=\"d-flex align-items-center\"><div class=\"compiler-icon-wrapper mb-0 me-3 rounded-circle d-flex align-items-center justify-content-center\"><span style=\"box-sizing:border-box;display:inline-block;overflow:hidden;width:initial;height:initial;background:none;opacity:1;border:0;margin:0;padding:0;position:relative;max-width:100%\"><span style=\"box-sizing:border-box;display:block;width:initial;height:initial;background:none;opacity:1;border:0;margin:0;padding:0;max-width:100%\"><img alt=\"\" aria-hidden=\"true\" src=\"data:image/svg+xml,%3csvg%20xmlns=%27http://www.w3.org/2000/svg%27%20version=%271.1%27%20width=%2725%27%20height=%2725%27/%3e\" style=\"display:block;max-width:100%;width:initial;height:initial;background:none;opacity:1;border:0;margin:0;padding:0\"/></span><img alt=\"compiler-img\" class=\"\" data-nimg=\"intrinsic\" decoding=\"async\" src=\"data:image/gif;base64,R0lGODlhAQABAIAAAAAAAP///yH5BAEAAAAALAAAAAABAAEAAAIBRAA7\" style=\"position:absolute;top:0;left:0;bottom:0;right:0;box-sizing:border-box;padding:0;border:none;margin:auto;display:block;width:0;height:0;min-width:100%;max-width:100%;min-height:100%;max-height:100%\"/><noscript><img alt=\"compiler-img\" class=\"\" data-nimg=\"intrinsic\" decoding=\"async\" loading=\"lazy\" src=\"https://d20evgacl8spoj.cloudfront.net/uploads/images/study-material-compiler/f60ffd71-5b88-42f8-8396-75ad661dd4e9-1664191180.svg\" srcset=\"https://d20evgacl8spoj.cloudfront.net/uploads/images/study-material-compiler/f60ffd71-5b88-42f8-8396-75ad661dd4e9-1664191180.svg 1x, https://d20evgacl8spoj.cloudfront.net/uploads/images/study-material-compiler/f60ffd71-5b88-42f8-8396-75ad661dd4e9-1664191180.svg 2x\" style=\"position:absolute;top:0;left:0;bottom:0;right:0;box-sizing:border-box;padding:0;border:none;margin:auto;display:block;width:0;height:0;min-width:100%;max-width:100%;min-height:100%;max-height:100%\"/></noscript></span></div><div><h5 class=\"fs-14 mb-0 fw-500 label-color-5 heading-turnicate\">Online C Compiler (Free Editor for C Programs)</h5><div><span class=\"fs-13 fw-500 label-color-4 text-truncate\">Start Coding C<svg aria-hidden=\"true\" class=\"svg-inline--fa fa-arrow-right ms-2\" data-icon=\"arrow-right\" data-prefix=\"fas\" focusable=\"false\" role=\"img\" viewbox=\"0 0 448 512\" xmlns=\"http://www.w3.org/2000/svg\"><path d=\"M438.6 278.6l-160 160C272.4 444.9 264.2 448 256 448s-16.38-3.125-22.62-9.375c-12.5-12.5-12.5-32.75 0-45.25L338.8 288H32C14.33 288 .0016 273.7 .0016 256S14.33 224 32 224h306.8l-105.4-105.4c-12.5-12.5-12.5-32.75 0-45.25s32.75-12.5 45.25 0l160 160C451.1 245.9 451.1 266.1 438.6 278.6z\" fill=\"currentColor\"></path></svg></span></div></div></div></div></div></a>,\n",
       " <a href=\"/compiler/css\" title=\"Online CSS Compiler and Editor\"><div class=\"course-compiler-card card\"><div class=\"card-body\"><div class=\"d-flex align-items-center\"><div class=\"compiler-icon-wrapper mb-0 me-3 rounded-circle d-flex align-items-center justify-content-center\"><span style=\"box-sizing:border-box;display:inline-block;overflow:hidden;width:initial;height:initial;background:none;opacity:1;border:0;margin:0;padding:0;position:relative;max-width:100%\"><span style=\"box-sizing:border-box;display:block;width:initial;height:initial;background:none;opacity:1;border:0;margin:0;padding:0;max-width:100%\"><img alt=\"\" aria-hidden=\"true\" src=\"data:image/svg+xml,%3csvg%20xmlns=%27http://www.w3.org/2000/svg%27%20version=%271.1%27%20width=%2725%27%20height=%2725%27/%3e\" style=\"display:block;max-width:100%;width:initial;height:initial;background:none;opacity:1;border:0;margin:0;padding:0\"/></span><img alt=\"compiler-img\" class=\"\" data-nimg=\"intrinsic\" decoding=\"async\" src=\"data:image/gif;base64,R0lGODlhAQABAIAAAAAAAP///yH5BAEAAAAALAAAAAABAAEAAAIBRAA7\" style=\"position:absolute;top:0;left:0;bottom:0;right:0;box-sizing:border-box;padding:0;border:none;margin:auto;display:block;width:0;height:0;min-width:100%;max-width:100%;min-height:100%;max-height:100%\"/><noscript><img alt=\"compiler-img\" class=\"\" data-nimg=\"intrinsic\" decoding=\"async\" loading=\"lazy\" src=\"https://d20evgacl8spoj.cloudfront.net/uploads/images/study-material-compiler/b5be3eb0-8ae8-4e22-97c9-0cdcb2a250e4-1664191183.svg\" srcset=\"https://d20evgacl8spoj.cloudfront.net/uploads/images/study-material-compiler/b5be3eb0-8ae8-4e22-97c9-0cdcb2a250e4-1664191183.svg 1x, https://d20evgacl8spoj.cloudfront.net/uploads/images/study-material-compiler/b5be3eb0-8ae8-4e22-97c9-0cdcb2a250e4-1664191183.svg 2x\" style=\"position:absolute;top:0;left:0;bottom:0;right:0;box-sizing:border-box;padding:0;border:none;margin:auto;display:block;width:0;height:0;min-width:100%;max-width:100%;min-height:100%;max-height:100%\"/></noscript></span></div><div><h5 class=\"fs-14 mb-0 fw-500 label-color-5 heading-turnicate\">Online CSS Compiler and Editor</h5><div><span class=\"fs-13 fw-500 label-color-4 text-truncate\">Start Coding CSS<svg aria-hidden=\"true\" class=\"svg-inline--fa fa-arrow-right ms-2\" data-icon=\"arrow-right\" data-prefix=\"fas\" focusable=\"false\" role=\"img\" viewbox=\"0 0 448 512\" xmlns=\"http://www.w3.org/2000/svg\"><path d=\"M438.6 278.6l-160 160C272.4 444.9 264.2 448 256 448s-16.38-3.125-22.62-9.375c-12.5-12.5-12.5-32.75 0-45.25L338.8 288H32C14.33 288 .0016 273.7 .0016 256S14.33 224 32 224h306.8l-105.4-105.4c-12.5-12.5-12.5-32.75 0-45.25s32.75-12.5 45.25 0l160 160C451.1 245.9 451.1 266.1 438.6 278.6z\" fill=\"currentColor\"></path></svg></span></div></div></div></div></div></a>,\n",
       " <a href=\"/compiler/html\" title=\"Online Compiler for HTML (HTML Editor &amp; Code Runner)\"><div class=\"course-compiler-card card\"><div class=\"card-body\"><div class=\"d-flex align-items-center\"><div class=\"compiler-icon-wrapper mb-0 me-3 rounded-circle d-flex align-items-center justify-content-center\"><span style=\"box-sizing:border-box;display:inline-block;overflow:hidden;width:initial;height:initial;background:none;opacity:1;border:0;margin:0;padding:0;position:relative;max-width:100%\"><span style=\"box-sizing:border-box;display:block;width:initial;height:initial;background:none;opacity:1;border:0;margin:0;padding:0;max-width:100%\"><img alt=\"\" aria-hidden=\"true\" src=\"data:image/svg+xml,%3csvg%20xmlns=%27http://www.w3.org/2000/svg%27%20version=%271.1%27%20width=%2725%27%20height=%2725%27/%3e\" style=\"display:block;max-width:100%;width:initial;height:initial;background:none;opacity:1;border:0;margin:0;padding:0\"/></span><img alt=\"compiler-img\" class=\"\" data-nimg=\"intrinsic\" decoding=\"async\" src=\"data:image/gif;base64,R0lGODlhAQABAIAAAAAAAP///yH5BAEAAAAALAAAAAABAAEAAAIBRAA7\" style=\"position:absolute;top:0;left:0;bottom:0;right:0;box-sizing:border-box;padding:0;border:none;margin:auto;display:block;width:0;height:0;min-width:100%;max-width:100%;min-height:100%;max-height:100%\"/><noscript><img alt=\"compiler-img\" class=\"\" data-nimg=\"intrinsic\" decoding=\"async\" loading=\"lazy\" src=\"https://d20evgacl8spoj.cloudfront.net/uploads/images/study-material-compiler/329300da-2f51-419c-be8e-58262e91fac0-1664257495.svg\" srcset=\"https://d20evgacl8spoj.cloudfront.net/uploads/images/study-material-compiler/329300da-2f51-419c-be8e-58262e91fac0-1664257495.svg 1x, https://d20evgacl8spoj.cloudfront.net/uploads/images/study-material-compiler/329300da-2f51-419c-be8e-58262e91fac0-1664257495.svg 2x\" style=\"position:absolute;top:0;left:0;bottom:0;right:0;box-sizing:border-box;padding:0;border:none;margin:auto;display:block;width:0;height:0;min-width:100%;max-width:100%;min-height:100%;max-height:100%\"/></noscript></span></div><div><h5 class=\"fs-14 mb-0 fw-500 label-color-5 heading-turnicate\">Online Compiler for HTML (HTML Editor &amp; Code Runner)</h5><div><span class=\"fs-13 fw-500 label-color-4 text-truncate\">Run HTML Code Online<svg aria-hidden=\"true\" class=\"svg-inline--fa fa-arrow-right ms-2\" data-icon=\"arrow-right\" data-prefix=\"fas\" focusable=\"false\" role=\"img\" viewbox=\"0 0 448 512\" xmlns=\"http://www.w3.org/2000/svg\"><path d=\"M438.6 278.6l-160 160C272.4 444.9 264.2 448 256 448s-16.38-3.125-22.62-9.375c-12.5-12.5-12.5-32.75 0-45.25L338.8 288H32C14.33 288 .0016 273.7 .0016 256S14.33 224 32 224h306.8l-105.4-105.4c-12.5-12.5-12.5-32.75 0-45.25s32.75-12.5 45.25 0l160 160C451.1 245.9 451.1 266.1 438.6 278.6z\" fill=\"currentColor\"></path></svg></span></div></div></div></div></div></a>,\n",
       " <a href=\"/compiler/jquery\" title=\"Online jQuery Editor and Compiler\"><div class=\"course-compiler-card card\"><div class=\"card-body\"><div class=\"d-flex align-items-center\"><div class=\"compiler-icon-wrapper mb-0 me-3 rounded-circle d-flex align-items-center justify-content-center\"><span style=\"box-sizing:border-box;display:inline-block;overflow:hidden;width:initial;height:initial;background:none;opacity:1;border:0;margin:0;padding:0;position:relative;max-width:100%\"><span style=\"box-sizing:border-box;display:block;width:initial;height:initial;background:none;opacity:1;border:0;margin:0;padding:0;max-width:100%\"><img alt=\"\" aria-hidden=\"true\" src=\"data:image/svg+xml,%3csvg%20xmlns=%27http://www.w3.org/2000/svg%27%20version=%271.1%27%20width=%2725%27%20height=%2725%27/%3e\" style=\"display:block;max-width:100%;width:initial;height:initial;background:none;opacity:1;border:0;margin:0;padding:0\"/></span><img alt=\"compiler-img\" class=\"\" data-nimg=\"intrinsic\" decoding=\"async\" src=\"data:image/gif;base64,R0lGODlhAQABAIAAAAAAAP///yH5BAEAAAAALAAAAAABAAEAAAIBRAA7\" style=\"position:absolute;top:0;left:0;bottom:0;right:0;box-sizing:border-box;padding:0;border:none;margin:auto;display:block;width:0;height:0;min-width:100%;max-width:100%;min-height:100%;max-height:100%\"/><noscript><img alt=\"compiler-img\" class=\"\" data-nimg=\"intrinsic\" decoding=\"async\" loading=\"lazy\" src=\"https://d20evgacl8spoj.cloudfront.net/uploads/images/study-material-compiler/da172d80-2fd9-4c25-a180-5c4d7ef1b13b-1663998203.svg\" srcset=\"https://d20evgacl8spoj.cloudfront.net/uploads/images/study-material-compiler/da172d80-2fd9-4c25-a180-5c4d7ef1b13b-1663998203.svg 1x, https://d20evgacl8spoj.cloudfront.net/uploads/images/study-material-compiler/da172d80-2fd9-4c25-a180-5c4d7ef1b13b-1663998203.svg 2x\" style=\"position:absolute;top:0;left:0;bottom:0;right:0;box-sizing:border-box;padding:0;border:none;margin:auto;display:block;width:0;height:0;min-width:100%;max-width:100%;min-height:100%;max-height:100%\"/></noscript></span></div><div><h5 class=\"fs-14 mb-0 fw-500 label-color-5 heading-turnicate\">Online jQuery Editor and Compiler</h5><div><span class=\"fs-13 fw-500 label-color-4 text-truncate\">Start Coding jQuery<svg aria-hidden=\"true\" class=\"svg-inline--fa fa-arrow-right ms-2\" data-icon=\"arrow-right\" data-prefix=\"fas\" focusable=\"false\" role=\"img\" viewbox=\"0 0 448 512\" xmlns=\"http://www.w3.org/2000/svg\"><path d=\"M438.6 278.6l-160 160C272.4 444.9 264.2 448 256 448s-16.38-3.125-22.62-9.375c-12.5-12.5-12.5-32.75 0-45.25L338.8 288H32C14.33 288 .0016 273.7 .0016 256S14.33 224 32 224h306.8l-105.4-105.4c-12.5-12.5-12.5-32.75 0-45.25s32.75-12.5 45.25 0l160 160C451.1 245.9 451.1 266.1 438.6 278.6z\" fill=\"currentColor\"></path></svg></span></div></div></div></div></div></a>,\n",
       " <a href=\"/compiler/cpp\" title=\"C++ Compiler Online (Free Editor for C++ Programs)\"><div class=\"course-compiler-card card\"><div class=\"card-body\"><div class=\"d-flex align-items-center\"><div class=\"compiler-icon-wrapper mb-0 me-3 rounded-circle d-flex align-items-center justify-content-center\"><span style=\"box-sizing:border-box;display:inline-block;overflow:hidden;width:initial;height:initial;background:none;opacity:1;border:0;margin:0;padding:0;position:relative;max-width:100%\"><span style=\"box-sizing:border-box;display:block;width:initial;height:initial;background:none;opacity:1;border:0;margin:0;padding:0;max-width:100%\"><img alt=\"\" aria-hidden=\"true\" src=\"data:image/svg+xml,%3csvg%20xmlns=%27http://www.w3.org/2000/svg%27%20version=%271.1%27%20width=%2725%27%20height=%2725%27/%3e\" style=\"display:block;max-width:100%;width:initial;height:initial;background:none;opacity:1;border:0;margin:0;padding:0\"/></span><img alt=\"compiler-img\" class=\"\" data-nimg=\"intrinsic\" decoding=\"async\" src=\"data:image/gif;base64,R0lGODlhAQABAIAAAAAAAP///yH5BAEAAAAALAAAAAABAAEAAAIBRAA7\" style=\"position:absolute;top:0;left:0;bottom:0;right:0;box-sizing:border-box;padding:0;border:none;margin:auto;display:block;width:0;height:0;min-width:100%;max-width:100%;min-height:100%;max-height:100%\"/><noscript><img alt=\"compiler-img\" class=\"\" data-nimg=\"intrinsic\" decoding=\"async\" loading=\"lazy\" src=\"https://d20evgacl8spoj.cloudfront.net/uploads/images/study-material-compiler/ac77b308-23fd-4c41-a26c-c5df53f7e1a0-1664257491.svg\" srcset=\"https://d20evgacl8spoj.cloudfront.net/uploads/images/study-material-compiler/ac77b308-23fd-4c41-a26c-c5df53f7e1a0-1664257491.svg 1x, https://d20evgacl8spoj.cloudfront.net/uploads/images/study-material-compiler/ac77b308-23fd-4c41-a26c-c5df53f7e1a0-1664257491.svg 2x\" style=\"position:absolute;top:0;left:0;bottom:0;right:0;box-sizing:border-box;padding:0;border:none;margin:auto;display:block;width:0;height:0;min-width:100%;max-width:100%;min-height:100%;max-height:100%\"/></noscript></span></div><div><h5 class=\"fs-14 mb-0 fw-500 label-color-5 heading-turnicate\">C++ Compiler Online (Free Editor for C++ Programs)</h5><div><span class=\"fs-13 fw-500 label-color-4 text-truncate\">Start Coding C++<svg aria-hidden=\"true\" class=\"svg-inline--fa fa-arrow-right ms-2\" data-icon=\"arrow-right\" data-prefix=\"fas\" focusable=\"false\" role=\"img\" viewbox=\"0 0 448 512\" xmlns=\"http://www.w3.org/2000/svg\"><path d=\"M438.6 278.6l-160 160C272.4 444.9 264.2 448 256 448s-16.38-3.125-22.62-9.375c-12.5-12.5-12.5-32.75 0-45.25L338.8 288H32C14.33 288 .0016 273.7 .0016 256S14.33 224 32 224h306.8l-105.4-105.4c-12.5-12.5-12.5-32.75 0-45.25s32.75-12.5 45.25 0l160 160C451.1 245.9 451.1 266.1 438.6 278.6z\" fill=\"currentColor\"></path></svg></span></div></div></div></div></div></a>,\n",
       " <a href=\"/compiler/php\" title=\"Online PHP Compiler (Free PHP Editor)\"><div class=\"course-compiler-card card\"><div class=\"card-body\"><div class=\"d-flex align-items-center\"><div class=\"compiler-icon-wrapper mb-0 me-3 rounded-circle d-flex align-items-center justify-content-center\"><span style=\"box-sizing:border-box;display:inline-block;overflow:hidden;width:initial;height:initial;background:none;opacity:1;border:0;margin:0;padding:0;position:relative;max-width:100%\"><span style=\"box-sizing:border-box;display:block;width:initial;height:initial;background:none;opacity:1;border:0;margin:0;padding:0;max-width:100%\"><img alt=\"\" aria-hidden=\"true\" src=\"data:image/svg+xml,%3csvg%20xmlns=%27http://www.w3.org/2000/svg%27%20version=%271.1%27%20width=%2725%27%20height=%2725%27/%3e\" style=\"display:block;max-width:100%;width:initial;height:initial;background:none;opacity:1;border:0;margin:0;padding:0\"/></span><img alt=\"compiler-img\" class=\"\" data-nimg=\"intrinsic\" decoding=\"async\" src=\"data:image/gif;base64,R0lGODlhAQABAIAAAAAAAP///yH5BAEAAAAALAAAAAABAAEAAAIBRAA7\" style=\"position:absolute;top:0;left:0;bottom:0;right:0;box-sizing:border-box;padding:0;border:none;margin:auto;display:block;width:0;height:0;min-width:100%;max-width:100%;min-height:100%;max-height:100%\"/><noscript><img alt=\"compiler-img\" class=\"\" data-nimg=\"intrinsic\" decoding=\"async\" loading=\"lazy\" src=\"https://d20evgacl8spoj.cloudfront.net/uploads/images/study-material-compiler/0348b25c-17b7-4ade-962b-d71fd3753814-1663998384.svg\" srcset=\"https://d20evgacl8spoj.cloudfront.net/uploads/images/study-material-compiler/0348b25c-17b7-4ade-962b-d71fd3753814-1663998384.svg 1x, https://d20evgacl8spoj.cloudfront.net/uploads/images/study-material-compiler/0348b25c-17b7-4ade-962b-d71fd3753814-1663998384.svg 2x\" style=\"position:absolute;top:0;left:0;bottom:0;right:0;box-sizing:border-box;padding:0;border:none;margin:auto;display:block;width:0;height:0;min-width:100%;max-width:100%;min-height:100%;max-height:100%\"/></noscript></span></div><div><h5 class=\"fs-14 mb-0 fw-500 label-color-5 heading-turnicate\">Online PHP Compiler (Free PHP Editor)</h5><div><span class=\"fs-13 fw-500 label-color-4 text-truncate\">Start Coding PHP<svg aria-hidden=\"true\" class=\"svg-inline--fa fa-arrow-right ms-2\" data-icon=\"arrow-right\" data-prefix=\"fas\" focusable=\"false\" role=\"img\" viewbox=\"0 0 448 512\" xmlns=\"http://www.w3.org/2000/svg\"><path d=\"M438.6 278.6l-160 160C272.4 444.9 264.2 448 256 448s-16.38-3.125-22.62-9.375c-12.5-12.5-12.5-32.75 0-45.25L338.8 288H32C14.33 288 .0016 273.7 .0016 256S14.33 224 32 224h306.8l-105.4-105.4c-12.5-12.5-12.5-32.75 0-45.25s32.75-12.5 45.25 0l160 160C451.1 245.9 451.1 266.1 438.6 278.6z\" fill=\"currentColor\"></path></svg></span></div></div></div></div></div></a>,\n",
       " <a href=\"/compiler/python\" title=\"Online Python Compiler (Free Editor for Python Programs)\"><div class=\"course-compiler-card card\"><div class=\"card-body\"><div class=\"d-flex align-items-center\"><div class=\"compiler-icon-wrapper mb-0 me-3 rounded-circle d-flex align-items-center justify-content-center\"><span style=\"box-sizing:border-box;display:inline-block;overflow:hidden;width:initial;height:initial;background:none;opacity:1;border:0;margin:0;padding:0;position:relative;max-width:100%\"><span style=\"box-sizing:border-box;display:block;width:initial;height:initial;background:none;opacity:1;border:0;margin:0;padding:0;max-width:100%\"><img alt=\"\" aria-hidden=\"true\" src=\"data:image/svg+xml,%3csvg%20xmlns=%27http://www.w3.org/2000/svg%27%20version=%271.1%27%20width=%2725%27%20height=%2725%27/%3e\" style=\"display:block;max-width:100%;width:initial;height:initial;background:none;opacity:1;border:0;margin:0;padding:0\"/></span><img alt=\"compiler-img\" class=\"\" data-nimg=\"intrinsic\" decoding=\"async\" src=\"data:image/gif;base64,R0lGODlhAQABAIAAAAAAAP///yH5BAEAAAAALAAAAAABAAEAAAIBRAA7\" style=\"position:absolute;top:0;left:0;bottom:0;right:0;box-sizing:border-box;padding:0;border:none;margin:auto;display:block;width:0;height:0;min-width:100%;max-width:100%;min-height:100%;max-height:100%\"/><noscript><img alt=\"compiler-img\" class=\"\" data-nimg=\"intrinsic\" decoding=\"async\" loading=\"lazy\" src=\"https://d20evgacl8spoj.cloudfront.net/uploads/images/study-material-compiler/6ead73cf-3385-44f1-a540-4f717fc7e467-1663998221.svg\" srcset=\"https://d20evgacl8spoj.cloudfront.net/uploads/images/study-material-compiler/6ead73cf-3385-44f1-a540-4f717fc7e467-1663998221.svg 1x, https://d20evgacl8spoj.cloudfront.net/uploads/images/study-material-compiler/6ead73cf-3385-44f1-a540-4f717fc7e467-1663998221.svg 2x\" style=\"position:absolute;top:0;left:0;bottom:0;right:0;box-sizing:border-box;padding:0;border:none;margin:auto;display:block;width:0;height:0;min-width:100%;max-width:100%;min-height:100%;max-height:100%\"/></noscript></span></div><div><h5 class=\"fs-14 mb-0 fw-500 label-color-5 heading-turnicate\">Online Python Compiler (Free Editor for Python Programs)</h5><div><span class=\"fs-13 fw-500 label-color-4 text-truncate\">Start Coding Python<svg aria-hidden=\"true\" class=\"svg-inline--fa fa-arrow-right ms-2\" data-icon=\"arrow-right\" data-prefix=\"fas\" focusable=\"false\" role=\"img\" viewbox=\"0 0 448 512\" xmlns=\"http://www.w3.org/2000/svg\"><path d=\"M438.6 278.6l-160 160C272.4 444.9 264.2 448 256 448s-16.38-3.125-22.62-9.375c-12.5-12.5-12.5-32.75 0-45.25L338.8 288H32C14.33 288 .0016 273.7 .0016 256S14.33 224 32 224h306.8l-105.4-105.4c-12.5-12.5-12.5-32.75 0-45.25s32.75-12.5 45.25 0l160 160C451.1 245.9 451.1 266.1 438.6 278.6z\" fill=\"currentColor\"></path></svg></span></div></div></div></div></div></a>,\n",
       " <a href=\"https://bit.ly/web-developer-course-ws\" target=\"_blank\"><h3 class=\"fs-20 lh-30 fw-600 label-color-5 mb-2 line-clamp-1\">Full Stack Web Development Course</h3></a>,\n",
       " <a href=\"https://bit.ly/web-developer-course-ws\" target=\"_blank\"><button class=\"tf-button setup-btn me-sm-3 me-2 exp-all-btn\">Book Demo Class<svg aria-hidden=\"true\" class=\"svg-inline--fa fa-arrow-right ms-2\" data-icon=\"arrow-right\" data-prefix=\"fas\" focusable=\"false\" height=\"12\" role=\"img\" viewbox=\"0 0 448 512\" width=\"12\" xmlns=\"http://www.w3.org/2000/svg\"><path d=\"M438.6 278.6l-160 160C272.4 444.9 264.2 448 256 448s-16.38-3.125-22.62-9.375c-12.5-12.5-12.5-32.75 0-45.25L338.8 288H32C14.33 288 .0016 273.7 .0016 256S14.33 224 32 224h306.8l-105.4-105.4c-12.5-12.5-12.5-32.75 0-45.25s32.75-12.5 45.25 0l160 160C451.1 245.9 451.1 266.1 438.6 278.6z\" fill=\"currentColor\"></path></svg></button></a>,\n",
       " <a href=\"https://bit.ly/digital-marketing-course-ws\" target=\"_blank\"><h3 class=\"fs-20 lh-30 fw-600 label-color-5 mb-2 line-clamp-1\">Digital Marketing Course</h3></a>,\n",
       " <a href=\"https://bit.ly/digital-marketing-course-ws\" target=\"_blank\"><button class=\"tf-button setup-btn me-sm-3 me-2 exp-all-btn\">Book Demo Class<svg aria-hidden=\"true\" class=\"svg-inline--fa fa-arrow-right ms-2\" data-icon=\"arrow-right\" data-prefix=\"fas\" focusable=\"false\" height=\"12\" role=\"img\" viewbox=\"0 0 448 512\" width=\"12\" xmlns=\"http://www.w3.org/2000/svg\"><path d=\"M438.6 278.6l-160 160C272.4 444.9 264.2 448 256 448s-16.38-3.125-22.62-9.375c-12.5-12.5-12.5-32.75 0-45.25L338.8 288H32C14.33 288 .0016 273.7 .0016 256S14.33 224 32 224h306.8l-105.4-105.4c-12.5-12.5-12.5-32.75 0-45.25s32.75-12.5 45.25 0l160 160C451.1 245.9 451.1 266.1 438.6 278.6z\" fill=\"currentColor\"></path></svg></button></a>,\n",
       " <a href=\"https://bit.ly/seo-course-ws\" target=\"_blank\"><h3 class=\"fs-20 lh-30 fw-600 label-color-5 mb-2 line-clamp-1\">SEO Course</h3></a>,\n",
       " <a href=\"https://bit.ly/seo-course-ws\" target=\"_blank\"><button class=\"tf-button setup-btn me-sm-3 me-2 exp-all-btn\">Book Demo Class<svg aria-hidden=\"true\" class=\"svg-inline--fa fa-arrow-right ms-2\" data-icon=\"arrow-right\" data-prefix=\"fas\" focusable=\"false\" height=\"12\" role=\"img\" viewbox=\"0 0 448 512\" width=\"12\" xmlns=\"http://www.w3.org/2000/svg\"><path d=\"M438.6 278.6l-160 160C272.4 444.9 264.2 448 256 448s-16.38-3.125-22.62-9.375c-12.5-12.5-12.5-32.75 0-45.25L338.8 288H32C14.33 288 .0016 273.7 .0016 256S14.33 224 32 224h306.8l-105.4-105.4c-12.5-12.5-12.5-32.75 0-45.25s32.75-12.5 45.25 0l160 160C451.1 245.9 451.1 266.1 438.6 278.6z\" fill=\"currentColor\"></path></svg></button></a>,\n",
       " <a href=\"https://www.wscubetech.com/online-python-certification-course-india.html?utm_source=TutorialsFreak&amp;utm_medium=python-tutorial&amp;utm_campaign=leads\" target=\"_blank\"><h3 class=\"fs-20 lh-30 fw-600 label-color-5 mb-2 line-clamp-1\">Python Certification Course</h3></a>,\n",
       " <a href=\"https://www.wscubetech.com/online-python-certification-course-india.html?utm_source=TutorialsFreak&amp;utm_medium=python-tutorial&amp;utm_campaign=leads\" target=\"_blank\"><button class=\"tf-button setup-btn me-sm-3 me-2 exp-all-btn\">Book Demo Class<svg aria-hidden=\"true\" class=\"svg-inline--fa fa-arrow-right ms-2\" data-icon=\"arrow-right\" data-prefix=\"fas\" focusable=\"false\" height=\"12\" role=\"img\" viewbox=\"0 0 448 512\" width=\"12\" xmlns=\"http://www.w3.org/2000/svg\"><path d=\"M438.6 278.6l-160 160C272.4 444.9 264.2 448 256 448s-16.38-3.125-22.62-9.375c-12.5-12.5-12.5-32.75 0-45.25L338.8 288H32C14.33 288 .0016 273.7 .0016 256S14.33 224 32 224h306.8l-105.4-105.4c-12.5-12.5-12.5-32.75 0-45.25s32.75-12.5 45.25 0l160 160C451.1 245.9 451.1 266.1 438.6 278.6z\" fill=\"currentColor\"></path></svg></button></a>,\n",
       " <a href=\"https://www.wscubetech.com/online-data-analytics-course.html?utm_source=TutorialsFreak&amp;utm_medium=ai-tutorial&amp;utm_campaign=leads\" target=\"_blank\"><h3 class=\"fs-20 lh-30 fw-600 label-color-5 mb-2 line-clamp-1\">Data Analytics Course</h3></a>,\n",
       " <a href=\"https://www.wscubetech.com/online-data-analytics-course.html?utm_source=TutorialsFreak&amp;utm_medium=ai-tutorial&amp;utm_campaign=leads\" target=\"_blank\"><button class=\"tf-button setup-btn me-sm-3 me-2 exp-all-btn\">Book Demo Class<svg aria-hidden=\"true\" class=\"svg-inline--fa fa-arrow-right ms-2\" data-icon=\"arrow-right\" data-prefix=\"fas\" focusable=\"false\" height=\"12\" role=\"img\" viewbox=\"0 0 448 512\" width=\"12\" xmlns=\"http://www.w3.org/2000/svg\"><path d=\"M438.6 278.6l-160 160C272.4 444.9 264.2 448 256 448s-16.38-3.125-22.62-9.375c-12.5-12.5-12.5-32.75 0-45.25L338.8 288H32C14.33 288 .0016 273.7 .0016 256S14.33 224 32 224h306.8l-105.4-105.4c-12.5-12.5-12.5-32.75 0-45.25s32.75-12.5 45.25 0l160 160C451.1 245.9 451.1 266.1 438.6 278.6z\" fill=\"currentColor\"></path></svg></button></a>,\n",
       " <a href=\"https://www.wscubetech.com/online-ethical-hacking-course.html?utm_source=TutorialsFreak&amp;utm_medium=eh-tutorial&amp;utm_campaign=leads\" target=\"_blank\"><h3 class=\"fs-20 lh-30 fw-600 label-color-5 mb-2 line-clamp-1\">Ethical Hacking Course</h3></a>,\n",
       " <a href=\"https://www.wscubetech.com/online-ethical-hacking-course.html?utm_source=TutorialsFreak&amp;utm_medium=eh-tutorial&amp;utm_campaign=leads\" target=\"_blank\"><button class=\"tf-button setup-btn me-sm-3 me-2 exp-all-btn\">Book Demo Class<svg aria-hidden=\"true\" class=\"svg-inline--fa fa-arrow-right ms-2\" data-icon=\"arrow-right\" data-prefix=\"fas\" focusable=\"false\" height=\"12\" role=\"img\" viewbox=\"0 0 448 512\" width=\"12\" xmlns=\"http://www.w3.org/2000/svg\"><path d=\"M438.6 278.6l-160 160C272.4 444.9 264.2 448 256 448s-16.38-3.125-22.62-9.375c-12.5-12.5-12.5-32.75 0-45.25L338.8 288H32C14.33 288 .0016 273.7 .0016 256S14.33 224 32 224h306.8l-105.4-105.4c-12.5-12.5-12.5-32.75 0-45.25s32.75-12.5 45.25 0l160 160C451.1 245.9 451.1 266.1 438.6 278.6z\" fill=\"currentColor\"></path></svg></button></a>,\n",
       " <a href=\"https://play.google.com/store/apps/details?id=com.tutorialsfreak\" target=\"_blank\"><img alt=\"Google-Play-Img\" src=\"/images/play-store.png\"/></a>,\n",
       " <a href=\"/\"><span style=\"box-sizing:border-box;display:inline-block;overflow:hidden;width:initial;height:initial;background:none;opacity:1;border:0;margin:0;padding:0;position:relative;max-width:100%\"><span style=\"box-sizing:border-box;display:block;width:initial;height:initial;background:none;opacity:1;border:0;margin:0;padding:0;max-width:100%\"><img alt=\"\" aria-hidden=\"true\" src=\"data:image/svg+xml,%3csvg%20xmlns=%27http://www.w3.org/2000/svg%27%20version=%271.1%27%20width=%27192%27%20height=%2756%27/%3e\" style=\"display:block;max-width:100%;width:initial;height:initial;background:none;opacity:1;border:0;margin:0;padding:0\"/></span><img alt=\"Logo-Img\" class=\"img-fluid\" data-nimg=\"intrinsic\" decoding=\"async\" src=\"data:image/gif;base64,R0lGODlhAQABAIAAAAAAAP///yH5BAEAAAAALAAAAAABAAEAAAIBRAA7\" style=\"position:absolute;top:0;left:0;bottom:0;right:0;box-sizing:border-box;padding:0;border:none;margin:auto;display:block;width:0;height:0;min-width:100%;max-width:100%;min-height:100%;max-height:100%\"/><noscript><img alt=\"Logo-Img\" class=\"img-fluid\" data-nimg=\"intrinsic\" decoding=\"async\" loading=\"lazy\" src=\"/images/tutorials-freak-logo.svg\" srcset=\"/images/tutorials-freak-logo.svg 1x, /images/tutorials-freak-logo.svg 2x\" style=\"position:absolute;top:0;left:0;bottom:0;right:0;box-sizing:border-box;padding:0;border:none;margin:auto;display:block;width:0;height:0;min-width:100%;max-width:100%;min-height:100%;max-height:100%\"/></noscript></span></a>,\n",
       " <a href=\"https://www.facebook.com/tutorialsfreak\" rel=\"noreferrer\" target=\"_blank\"><svg aria-labelledby=\"svg-inline--fa-title-ihVlRbmOISe1\" class=\"svg-inline--fa fa-square-facebook fs-24 label-color-1 text-purple-hover\" data-icon=\"square-facebook\" data-prefix=\"fab\" role=\"img\" viewbox=\"0 0 448 512\" xmlns=\"http://www.w3.org/2000/svg\"><title id=\"svg-inline--fa-title-ihVlRbmOISe1\">Facebook</title><path d=\"M400 32H48A48 48 0 0 0 0 80v352a48 48 0 0 0 48 48h137.3V327.7h-63V256h63v-54.64c0-62.15 37-96.48 93.67-96.48 27.14 0 55.52 4.84 55.52 4.84v61h-31.27c-30.81 0-40.42 19.12-40.42 38.73V256h68.78l-11 71.69h-57.78V480H400a48 48 0 0 0 48-48V80a48 48 0 0 0 -48-48z\" fill=\"currentColor\"></path></svg></a>,\n",
       " <a href=\"https://twitter.com/TutorialsFreak\" rel=\"noreferrer\" target=\"_blank\"><svg aria-labelledby=\"svg-inline--fa-title-7XGMVFUyY82H\" class=\"svg-inline--fa fa-twitter fs-24 label-color-1 text-purple-hover\" data-icon=\"twitter\" data-prefix=\"fab\" role=\"img\" viewbox=\"0 0 512 512\" xmlns=\"http://www.w3.org/2000/svg\"><title id=\"svg-inline--fa-title-7XGMVFUyY82H\">Twiter</title><path d=\"M459.4 151.7c.325 4.548 .325 9.097 .325 13.65 0 138.7-105.6 298.6-298.6 298.6-59.45 0-114.7-17.22-161.1-47.11 8.447 .974 16.57 1.299 25.34 1.299 49.06 0 94.21-16.57 130.3-44.83-46.13-.975-84.79-31.19-98.11-72.77 6.498 .974 12.99 1.624 19.82 1.624 9.421 0 18.84-1.3 27.61-3.573-48.08-9.747-84.14-51.98-84.14-102.1v-1.299c13.97 7.797 30.21 12.67 47.43 13.32-28.26-18.84-46.78-51.01-46.78-87.39 0-19.49 5.197-37.36 14.29-52.95 51.65 63.67 129.3 105.3 216.4 109.8-1.624-7.797-2.599-15.92-2.599-24.04 0-57.83 46.78-104.9 104.9-104.9 30.21 0 57.5 12.67 76.67 33.14 23.72-4.548 46.46-13.32 66.6-25.34-7.798 24.37-24.37 44.83-46.13 57.83 21.12-2.273 41.58-8.122 60.43-16.24-14.29 20.79-32.16 39.31-52.63 54.25z\" fill=\"currentColor\"></path></svg></a>,\n",
       " <a href=\"https://www.instagram.com/tutorials_freak/\" rel=\"noreferrer\" target=\"_blank\"><svg aria-labelledby=\"svg-inline--fa-title-00owhR46t22T\" class=\"svg-inline--fa fa-instagram fs-24 label-color-1 text-purple-hover\" data-icon=\"instagram\" data-prefix=\"fab\" role=\"img\" viewbox=\"0 0 448 512\" xmlns=\"http://www.w3.org/2000/svg\"><title id=\"svg-inline--fa-title-00owhR46t22T\">Instagram</title><path d=\"M224.1 141c-63.6 0-114.9 51.3-114.9 114.9s51.3 114.9 114.9 114.9S339 319.5 339 255.9 287.7 141 224.1 141zm0 189.6c-41.1 0-74.7-33.5-74.7-74.7s33.5-74.7 74.7-74.7 74.7 33.5 74.7 74.7-33.6 74.7-74.7 74.7zm146.4-194.3c0 14.9-12 26.8-26.8 26.8-14.9 0-26.8-12-26.8-26.8s12-26.8 26.8-26.8 26.8 12 26.8 26.8zm76.1 27.2c-1.7-35.9-9.9-67.7-36.2-93.9-26.2-26.2-58-34.4-93.9-36.2-37-2.1-147.9-2.1-184.9 0-35.8 1.7-67.6 9.9-93.9 36.1s-34.4 58-36.2 93.9c-2.1 37-2.1 147.9 0 184.9 1.7 35.9 9.9 67.7 36.2 93.9s58 34.4 93.9 36.2c37 2.1 147.9 2.1 184.9 0 35.9-1.7 67.7-9.9 93.9-36.2 26.2-26.2 34.4-58 36.2-93.9 2.1-37 2.1-147.8 0-184.8zM398.8 388c-7.8 19.6-22.9 34.7-42.6 42.6-29.5 11.7-99.5 9-132.1 9s-102.7 2.6-132.1-9c-19.6-7.8-34.7-22.9-42.6-42.6-11.7-29.5-9-99.5-9-132.1s-2.6-102.7 9-132.1c7.8-19.6 22.9-34.7 42.6-42.6 29.5-11.7 99.5-9 132.1-9s102.7-2.6 132.1 9c19.6 7.8 34.7 22.9 42.6 42.6 11.7 29.5 9 99.5 9 132.1s2.7 102.7-9 132.1z\" fill=\"currentColor\"></path></svg></a>,\n",
       " <a href=\"https://www.linkedin.com/company/tutorialsfreak/\" rel=\"noreferrer\" target=\"_blank\"><svg aria-labelledby=\"svg-inline--fa-title-wlZOrXdxaD0A\" class=\"svg-inline--fa fa-linkedin fs-24 label-color-1 text-purple-hover\" data-icon=\"linkedin\" data-prefix=\"fab\" role=\"img\" viewbox=\"0 0 448 512\" xmlns=\"http://www.w3.org/2000/svg\"><title id=\"svg-inline--fa-title-wlZOrXdxaD0A\">LinkedIn</title><path d=\"M416 32H31.9C14.3 32 0 46.5 0 64.3v383.4C0 465.5 14.3 480 31.9 480H416c17.6 0 32-14.5 32-32.3V64.3c0-17.8-14.4-32.3-32-32.3zM135.4 416H69V202.2h66.5V416zm-33.2-243c-21.3 0-38.5-17.3-38.5-38.5S80.9 96 102.2 96c21.2 0 38.5 17.3 38.5 38.5 0 21.3-17.2 38.5-38.5 38.5zm282.1 243h-66.4V312c0-24.8-.5-56.7-34.5-56.7-34.6 0-39.9 27-39.9 54.9V416h-66.4V202.2h63.7v29.2h.9c8.9-16.8 30.6-34.5 62.9-34.5 67.2 0 79.7 44.3 79.7 101.9V416z\" fill=\"currentColor\"></path></svg></a>,\n",
       " <a class=\"label-color-1 text-decoration-none\" href=\"/terms-conditons\">Terms &amp; Conditions</a>,\n",
       " <a class=\"label-color-1 text-decoration-none\" href=\"/privacy-policy\">Privacy Policy</a>,\n",
       " <a class=\"label-color-1 text-decoration-none\" href=\"/about-us\">About Us</a>,\n",
       " <a class=\"label-color-1 text-decoration-none\" href=\"/contact-us\">Contact Us</a>,\n",
       " <a class=\"text-decoration-none label-color-1 fw-400\" href=\"https://www.wscubetech.com/\" rel=\"noreferrer\" target=\"_blank\" title=\"WsCube Tech\">WsCube Tech</a>]"
      ]
     },
     "execution_count": 12,
     "metadata": {},
     "output_type": "execute_result"
    }
   ],
   "source": [
    "soup.find_all(\"a\")"
   ]
  },
  {
   "cell_type": "code",
   "execution_count": 14,
   "id": "9f5557b8-6192-4d1a-bf38-fe693fa67301",
   "metadata": {
    "scrolled": true
   },
   "outputs": [
    {
     "name": "stdout",
     "output_type": "stream",
     "text": [
      "/\n",
      "/search\n",
      "/\n",
      "/\n",
      "/\n",
      "/\n",
      "/\n",
      "/\n",
      "/\n",
      "/\n",
      "/compiler/c\n",
      "/compiler/css\n",
      "/compiler/html\n",
      "/compiler/jquery\n",
      "/compiler/cpp\n",
      "/compiler/php\n",
      "/compiler/python\n",
      "https://bit.ly/web-developer-course-ws\n",
      "https://bit.ly/web-developer-course-ws\n",
      "https://bit.ly/digital-marketing-course-ws\n",
      "https://bit.ly/digital-marketing-course-ws\n",
      "https://bit.ly/seo-course-ws\n",
      "https://bit.ly/seo-course-ws\n",
      "https://www.wscubetech.com/online-python-certification-course-india.html?utm_source=TutorialsFreak&utm_medium=python-tutorial&utm_campaign=leads\n",
      "https://www.wscubetech.com/online-python-certification-course-india.html?utm_source=TutorialsFreak&utm_medium=python-tutorial&utm_campaign=leads\n",
      "https://www.wscubetech.com/online-data-analytics-course.html?utm_source=TutorialsFreak&utm_medium=ai-tutorial&utm_campaign=leads\n",
      "https://www.wscubetech.com/online-data-analytics-course.html?utm_source=TutorialsFreak&utm_medium=ai-tutorial&utm_campaign=leads\n",
      "https://www.wscubetech.com/online-ethical-hacking-course.html?utm_source=TutorialsFreak&utm_medium=eh-tutorial&utm_campaign=leads\n",
      "https://www.wscubetech.com/online-ethical-hacking-course.html?utm_source=TutorialsFreak&utm_medium=eh-tutorial&utm_campaign=leads\n",
      "https://play.google.com/store/apps/details?id=com.tutorialsfreak\n",
      "/\n",
      "https://www.facebook.com/tutorialsfreak\n",
      "https://twitter.com/TutorialsFreak\n",
      "https://www.instagram.com/tutorials_freak/\n",
      "https://www.linkedin.com/company/tutorialsfreak/\n",
      "/terms-conditons\n",
      "/privacy-policy\n",
      "/about-us\n",
      "/contact-us\n",
      "https://www.wscubetech.com/\n"
     ]
    }
   ],
   "source": [
    "for i in soup.find_all(\"a\"):\n",
    "    print(i.get(\"href\"))"
   ]
  },
  {
   "cell_type": "code",
   "execution_count": null,
   "id": "3150958c-fba8-4b46-922e-604473499441",
   "metadata": {},
   "outputs": [],
   "source": []
  }
 ],
 "metadata": {
  "kernelspec": {
   "display_name": "Python 3 (ipykernel)",
   "language": "python",
   "name": "python3"
  },
  "language_info": {
   "codemirror_mode": {
    "name": "ipython",
    "version": 3
   },
   "file_extension": ".py",
   "mimetype": "text/x-python",
   "name": "python",
   "nbconvert_exporter": "python",
   "pygments_lexer": "ipython3",
   "version": "3.13.3"
  }
 },
 "nbformat": 4,
 "nbformat_minor": 5
}
