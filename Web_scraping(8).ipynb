{
 "cells": [
  {
   "cell_type": "markdown",
   "id": "bdb096da-39cc-48d0-a3d7-544a290bd39b",
   "metadata": {},
   "source": [
    "## Extracting Image Infromation in Web Page Using Python"
   ]
  },
  {
   "cell_type": "code",
   "execution_count": 1,
   "id": "06b2d2a6-1aa0-4fe6-a753-378a3d381929",
   "metadata": {},
   "outputs": [],
   "source": [
    "import requests \n",
    "from bs4 import BeautifulSoup"
   ]
  },
  {
   "cell_type": "code",
   "execution_count": 2,
   "id": "a1e76ef6-ac4a-42d9-bb92-5622ade7b4f3",
   "metadata": {},
   "outputs": [
    {
     "data": {
      "text/plain": [
       "200"
      ]
     },
     "execution_count": 2,
     "metadata": {},
     "output_type": "execute_result"
    }
   ],
   "source": [
    "web = requests.get(\"https://www.tutorialsfreak.com\")\n",
    "web.status_code"
   ]
  },
  {
   "cell_type": "code",
   "execution_count": 5,
   "id": "c8cd9948-8ab9-45b2-9f63-bec1ba8ac463",
   "metadata": {
    "scrolled": true
   },
   "outputs": [],
   "source": [
    "soup = BeautifulSoup(web.content, \"html.parser\")\n",
    "# print(soup.prettify())"
   ]
  },
  {
   "cell_type": "code",
   "execution_count": 6,
   "id": "36bdfa70-7906-4478-aac8-a41f9881a322",
   "metadata": {
    "scrolled": true
   },
   "outputs": [
    {
     "data": {
      "text/plain": [
       "[<img alt=\"\" aria-hidden=\"true\" src=\"data:image/svg+xml,%3csvg%20xmlns=%27http://www.w3.org/2000/svg%27%20version=%271.1%27%20width=%27192%27%20height=%2756%27/%3e\" style=\"display:block;max-width:100%;width:initial;height:initial;background:none;opacity:1;border:0;margin:0;padding:0\"/>,\n",
       " <img alt=\"Logo-Img\" class=\"img-fluid\" data-nimg=\"intrinsic\" decoding=\"async\" src=\"data:image/gif;base64,R0lGODlhAQABAIAAAAAAAP///yH5BAEAAAAALAAAAAABAAEAAAIBRAA7\" style=\"position:absolute;top:0;left:0;bottom:0;right:0;box-sizing:border-box;padding:0;border:none;margin:auto;display:block;width:0;height:0;min-width:100%;max-width:100%;min-height:100%;max-height:100%\"/>,\n",
       " <img alt=\"Logo-Img\" class=\"img-fluid\" data-nimg=\"intrinsic\" decoding=\"async\" loading=\"lazy\" src=\"/images/tutorials-freak-logo.svg\" srcset=\"/images/tutorials-freak-logo.svg 1x, /images/tutorials-freak-logo.svg 2x\" style=\"position:absolute;top:0;left:0;bottom:0;right:0;box-sizing:border-box;padding:0;border:none;margin:auto;display:block;width:0;height:0;min-width:100%;max-width:100%;min-height:100%;max-height:100%\"/>,\n",
       " <img alt=\"Serch-Img\" src=\"/images/search.svg\"/>,\n",
       " <img alt=\"Banner-Img\" class=\"img-fluid\" data-nimg=\"responsive\" decoding=\"async\" src=\"data:image/gif;base64,R0lGODlhAQABAIAAAAAAAP///yH5BAEAAAAALAAAAAABAAEAAAIBRAA7\" style=\"position:absolute;top:0;left:0;bottom:0;right:0;box-sizing:border-box;padding:0;border:none;margin:auto;display:block;width:0;height:0;min-width:100%;max-width:100%;min-height:100%;max-height:100%\"/>,\n",
       " <img alt=\"Banner-Img\" class=\"img-fluid\" data-nimg=\"responsive\" decoding=\"async\" loading=\"lazy\" sizes=\"100vw\" src=\"/_next/image?url=%2Fimages%2Fbanner-middle.webp&amp;w=3840&amp;q=75\" srcset=\"/_next/image?url=%2Fimages%2Fbanner-middle.webp&amp;w=640&amp;q=75 640w, /_next/image?url=%2Fimages%2Fbanner-middle.webp&amp;w=750&amp;q=75 750w, /_next/image?url=%2Fimages%2Fbanner-middle.webp&amp;w=828&amp;q=75 828w, /_next/image?url=%2Fimages%2Fbanner-middle.webp&amp;w=1080&amp;q=75 1080w, /_next/image?url=%2Fimages%2Fbanner-middle.webp&amp;w=1200&amp;q=75 1200w, /_next/image?url=%2Fimages%2Fbanner-middle.webp&amp;w=1920&amp;q=75 1920w, /_next/image?url=%2Fimages%2Fbanner-middle.webp&amp;w=2048&amp;q=75 2048w, /_next/image?url=%2Fimages%2Fbanner-middle.webp&amp;w=3840&amp;q=75 3840w\" style=\"position:absolute;top:0;left:0;bottom:0;right:0;box-sizing:border-box;padding:0;border:none;margin:auto;display:block;width:0;height:0;min-width:100%;max-width:100%;min-height:100%;max-height:100%\"/>,\n",
       " <img alt=\"Course-Img\" src=\"/images/kotlin-img.svg\"/>,\n",
       " <img alt=\"Course-Img\" src=\"/images/eagle-img.svg\"/>,\n",
       " <img alt=\"Course-Img\" src=\"/images/apple-img.svg\"/>,\n",
       " <img alt=\"Course-Img\" src=\"/images/angular-img.svg\"/>,\n",
       " <img alt=\"Course-Img\" src=\"/images/python-img.svg\"/>,\n",
       " <img alt=\"Course-Img\" src=\"/images/react-img.svg\"/>,\n",
       " <img alt=\"Course-Img\" src=\"/images/android-img.svg\"/>,\n",
       " <img alt=\"Course-Img\" src=\"/images/java-img.svg\"/>,\n",
       " <img alt=\"\" aria-hidden=\"true\" src=\"data:image/svg+xml,%3csvg%20xmlns=%27http://www.w3.org/2000/svg%27%20version=%271.1%27%20width=%2748%27%20height=%2748%27/%3e\" style=\"display:block;max-width:100%;width:initial;height:initial;background:none;opacity:1;border:0;margin:0;padding:0\"/>,\n",
       " <img alt=\"Why-Choose-Img\" data-nimg=\"intrinsic\" decoding=\"async\" src=\"data:image/gif;base64,R0lGODlhAQABAIAAAAAAAP///yH5BAEAAAAALAAAAAABAAEAAAIBRAA7\" style=\"position:absolute;top:0;left:0;bottom:0;right:0;box-sizing:border-box;padding:0;border:none;margin:auto;display:block;width:0;height:0;min-width:100%;max-width:100%;min-height:100%;max-height:100%\"/>,\n",
       " <img alt=\"Why-Choose-Img\" data-nimg=\"intrinsic\" decoding=\"async\" loading=\"lazy\" src=\"https://d20evgacl8spoj.cloudfront.net/uploads/learning-course/images/home-page/2cd6e0d7-4864-4837-a4a7-e0b120282e8d-1648197173.svg\" srcset=\"https://d20evgacl8spoj.cloudfront.net/uploads/learning-course/images/home-page/2cd6e0d7-4864-4837-a4a7-e0b120282e8d-1648197173.svg 1x, https://d20evgacl8spoj.cloudfront.net/uploads/learning-course/images/home-page/2cd6e0d7-4864-4837-a4a7-e0b120282e8d-1648197173.svg 2x\" style=\"position:absolute;top:0;left:0;bottom:0;right:0;box-sizing:border-box;padding:0;border:none;margin:auto;display:block;width:0;height:0;min-width:100%;max-width:100%;min-height:100%;max-height:100%\"/>,\n",
       " <img alt=\"\" aria-hidden=\"true\" src=\"data:image/svg+xml,%3csvg%20xmlns=%27http://www.w3.org/2000/svg%27%20version=%271.1%27%20width=%2748%27%20height=%2748%27/%3e\" style=\"display:block;max-width:100%;width:initial;height:initial;background:none;opacity:1;border:0;margin:0;padding:0\"/>,\n",
       " <img alt=\"Why-Choose-Img\" data-nimg=\"intrinsic\" decoding=\"async\" src=\"data:image/gif;base64,R0lGODlhAQABAIAAAAAAAP///yH5BAEAAAAALAAAAAABAAEAAAIBRAA7\" style=\"position:absolute;top:0;left:0;bottom:0;right:0;box-sizing:border-box;padding:0;border:none;margin:auto;display:block;width:0;height:0;min-width:100%;max-width:100%;min-height:100%;max-height:100%\"/>,\n",
       " <img alt=\"Why-Choose-Img\" data-nimg=\"intrinsic\" decoding=\"async\" loading=\"lazy\" src=\"https://d20evgacl8spoj.cloudfront.net/uploads/learning-course/images/home-page/e5eb78ac-30fd-4443-8f23-63bd378c0c01-1645691302.svg\" srcset=\"https://d20evgacl8spoj.cloudfront.net/uploads/learning-course/images/home-page/e5eb78ac-30fd-4443-8f23-63bd378c0c01-1645691302.svg 1x, https://d20evgacl8spoj.cloudfront.net/uploads/learning-course/images/home-page/e5eb78ac-30fd-4443-8f23-63bd378c0c01-1645691302.svg 2x\" style=\"position:absolute;top:0;left:0;bottom:0;right:0;box-sizing:border-box;padding:0;border:none;margin:auto;display:block;width:0;height:0;min-width:100%;max-width:100%;min-height:100%;max-height:100%\"/>,\n",
       " <img alt=\"\" aria-hidden=\"true\" src=\"data:image/svg+xml,%3csvg%20xmlns=%27http://www.w3.org/2000/svg%27%20version=%271.1%27%20width=%2748%27%20height=%2748%27/%3e\" style=\"display:block;max-width:100%;width:initial;height:initial;background:none;opacity:1;border:0;margin:0;padding:0\"/>,\n",
       " <img alt=\"Why-Choose-Img\" data-nimg=\"intrinsic\" decoding=\"async\" src=\"data:image/gif;base64,R0lGODlhAQABAIAAAAAAAP///yH5BAEAAAAALAAAAAABAAEAAAIBRAA7\" style=\"position:absolute;top:0;left:0;bottom:0;right:0;box-sizing:border-box;padding:0;border:none;margin:auto;display:block;width:0;height:0;min-width:100%;max-width:100%;min-height:100%;max-height:100%\"/>,\n",
       " <img alt=\"Why-Choose-Img\" data-nimg=\"intrinsic\" decoding=\"async\" loading=\"lazy\" src=\"https://d20evgacl8spoj.cloudfront.net/uploads/learning-course/images/home-page/7f47bf14-d748-40f4-b9a5-921b1bb4df3f-1648197078.svg\" srcset=\"https://d20evgacl8spoj.cloudfront.net/uploads/learning-course/images/home-page/7f47bf14-d748-40f4-b9a5-921b1bb4df3f-1648197078.svg 1x, https://d20evgacl8spoj.cloudfront.net/uploads/learning-course/images/home-page/7f47bf14-d748-40f4-b9a5-921b1bb4df3f-1648197078.svg 2x\" style=\"position:absolute;top:0;left:0;bottom:0;right:0;box-sizing:border-box;padding:0;border:none;margin:auto;display:block;width:0;height:0;min-width:100%;max-width:100%;min-height:100%;max-height:100%\"/>,\n",
       " <img alt=\"\" class=\"img-fluid mt-5\" src=\"/images/compilor.webp\" width=\"90%\"/>,\n",
       " <img alt=\"\" aria-hidden=\"true\" src=\"data:image/svg+xml,%3csvg%20xmlns=%27http://www.w3.org/2000/svg%27%20version=%271.1%27%20width=%2725%27%20height=%2725%27/%3e\" style=\"display:block;max-width:100%;width:initial;height:initial;background:none;opacity:1;border:0;margin:0;padding:0\"/>,\n",
       " <img alt=\"compiler-img\" class=\"\" data-nimg=\"intrinsic\" decoding=\"async\" src=\"data:image/gif;base64,R0lGODlhAQABAIAAAAAAAP///yH5BAEAAAAALAAAAAABAAEAAAIBRAA7\" style=\"position:absolute;top:0;left:0;bottom:0;right:0;box-sizing:border-box;padding:0;border:none;margin:auto;display:block;width:0;height:0;min-width:100%;max-width:100%;min-height:100%;max-height:100%\"/>,\n",
       " <img alt=\"compiler-img\" class=\"\" data-nimg=\"intrinsic\" decoding=\"async\" loading=\"lazy\" src=\"https://d20evgacl8spoj.cloudfront.net/uploads/images/study-material-compiler/f60ffd71-5b88-42f8-8396-75ad661dd4e9-1664191180.svg\" srcset=\"https://d20evgacl8spoj.cloudfront.net/uploads/images/study-material-compiler/f60ffd71-5b88-42f8-8396-75ad661dd4e9-1664191180.svg 1x, https://d20evgacl8spoj.cloudfront.net/uploads/images/study-material-compiler/f60ffd71-5b88-42f8-8396-75ad661dd4e9-1664191180.svg 2x\" style=\"position:absolute;top:0;left:0;bottom:0;right:0;box-sizing:border-box;padding:0;border:none;margin:auto;display:block;width:0;height:0;min-width:100%;max-width:100%;min-height:100%;max-height:100%\"/>,\n",
       " <img alt=\"\" aria-hidden=\"true\" src=\"data:image/svg+xml,%3csvg%20xmlns=%27http://www.w3.org/2000/svg%27%20version=%271.1%27%20width=%2725%27%20height=%2725%27/%3e\" style=\"display:block;max-width:100%;width:initial;height:initial;background:none;opacity:1;border:0;margin:0;padding:0\"/>,\n",
       " <img alt=\"compiler-img\" class=\"\" data-nimg=\"intrinsic\" decoding=\"async\" src=\"data:image/gif;base64,R0lGODlhAQABAIAAAAAAAP///yH5BAEAAAAALAAAAAABAAEAAAIBRAA7\" style=\"position:absolute;top:0;left:0;bottom:0;right:0;box-sizing:border-box;padding:0;border:none;margin:auto;display:block;width:0;height:0;min-width:100%;max-width:100%;min-height:100%;max-height:100%\"/>,\n",
       " <img alt=\"compiler-img\" class=\"\" data-nimg=\"intrinsic\" decoding=\"async\" loading=\"lazy\" src=\"https://d20evgacl8spoj.cloudfront.net/uploads/images/study-material-compiler/b5be3eb0-8ae8-4e22-97c9-0cdcb2a250e4-1664191183.svg\" srcset=\"https://d20evgacl8spoj.cloudfront.net/uploads/images/study-material-compiler/b5be3eb0-8ae8-4e22-97c9-0cdcb2a250e4-1664191183.svg 1x, https://d20evgacl8spoj.cloudfront.net/uploads/images/study-material-compiler/b5be3eb0-8ae8-4e22-97c9-0cdcb2a250e4-1664191183.svg 2x\" style=\"position:absolute;top:0;left:0;bottom:0;right:0;box-sizing:border-box;padding:0;border:none;margin:auto;display:block;width:0;height:0;min-width:100%;max-width:100%;min-height:100%;max-height:100%\"/>,\n",
       " <img alt=\"\" aria-hidden=\"true\" src=\"data:image/svg+xml,%3csvg%20xmlns=%27http://www.w3.org/2000/svg%27%20version=%271.1%27%20width=%2725%27%20height=%2725%27/%3e\" style=\"display:block;max-width:100%;width:initial;height:initial;background:none;opacity:1;border:0;margin:0;padding:0\"/>,\n",
       " <img alt=\"compiler-img\" class=\"\" data-nimg=\"intrinsic\" decoding=\"async\" src=\"data:image/gif;base64,R0lGODlhAQABAIAAAAAAAP///yH5BAEAAAAALAAAAAABAAEAAAIBRAA7\" style=\"position:absolute;top:0;left:0;bottom:0;right:0;box-sizing:border-box;padding:0;border:none;margin:auto;display:block;width:0;height:0;min-width:100%;max-width:100%;min-height:100%;max-height:100%\"/>,\n",
       " <img alt=\"compiler-img\" class=\"\" data-nimg=\"intrinsic\" decoding=\"async\" loading=\"lazy\" src=\"https://d20evgacl8spoj.cloudfront.net/uploads/images/study-material-compiler/329300da-2f51-419c-be8e-58262e91fac0-1664257495.svg\" srcset=\"https://d20evgacl8spoj.cloudfront.net/uploads/images/study-material-compiler/329300da-2f51-419c-be8e-58262e91fac0-1664257495.svg 1x, https://d20evgacl8spoj.cloudfront.net/uploads/images/study-material-compiler/329300da-2f51-419c-be8e-58262e91fac0-1664257495.svg 2x\" style=\"position:absolute;top:0;left:0;bottom:0;right:0;box-sizing:border-box;padding:0;border:none;margin:auto;display:block;width:0;height:0;min-width:100%;max-width:100%;min-height:100%;max-height:100%\"/>,\n",
       " <img alt=\"\" aria-hidden=\"true\" src=\"data:image/svg+xml,%3csvg%20xmlns=%27http://www.w3.org/2000/svg%27%20version=%271.1%27%20width=%2725%27%20height=%2725%27/%3e\" style=\"display:block;max-width:100%;width:initial;height:initial;background:none;opacity:1;border:0;margin:0;padding:0\"/>,\n",
       " <img alt=\"compiler-img\" class=\"\" data-nimg=\"intrinsic\" decoding=\"async\" src=\"data:image/gif;base64,R0lGODlhAQABAIAAAAAAAP///yH5BAEAAAAALAAAAAABAAEAAAIBRAA7\" style=\"position:absolute;top:0;left:0;bottom:0;right:0;box-sizing:border-box;padding:0;border:none;margin:auto;display:block;width:0;height:0;min-width:100%;max-width:100%;min-height:100%;max-height:100%\"/>,\n",
       " <img alt=\"compiler-img\" class=\"\" data-nimg=\"intrinsic\" decoding=\"async\" loading=\"lazy\" src=\"https://d20evgacl8spoj.cloudfront.net/uploads/images/study-material-compiler/da172d80-2fd9-4c25-a180-5c4d7ef1b13b-1663998203.svg\" srcset=\"https://d20evgacl8spoj.cloudfront.net/uploads/images/study-material-compiler/da172d80-2fd9-4c25-a180-5c4d7ef1b13b-1663998203.svg 1x, https://d20evgacl8spoj.cloudfront.net/uploads/images/study-material-compiler/da172d80-2fd9-4c25-a180-5c4d7ef1b13b-1663998203.svg 2x\" style=\"position:absolute;top:0;left:0;bottom:0;right:0;box-sizing:border-box;padding:0;border:none;margin:auto;display:block;width:0;height:0;min-width:100%;max-width:100%;min-height:100%;max-height:100%\"/>,\n",
       " <img alt=\"\" aria-hidden=\"true\" src=\"data:image/svg+xml,%3csvg%20xmlns=%27http://www.w3.org/2000/svg%27%20version=%271.1%27%20width=%2725%27%20height=%2725%27/%3e\" style=\"display:block;max-width:100%;width:initial;height:initial;background:none;opacity:1;border:0;margin:0;padding:0\"/>,\n",
       " <img alt=\"compiler-img\" class=\"\" data-nimg=\"intrinsic\" decoding=\"async\" src=\"data:image/gif;base64,R0lGODlhAQABAIAAAAAAAP///yH5BAEAAAAALAAAAAABAAEAAAIBRAA7\" style=\"position:absolute;top:0;left:0;bottom:0;right:0;box-sizing:border-box;padding:0;border:none;margin:auto;display:block;width:0;height:0;min-width:100%;max-width:100%;min-height:100%;max-height:100%\"/>,\n",
       " <img alt=\"compiler-img\" class=\"\" data-nimg=\"intrinsic\" decoding=\"async\" loading=\"lazy\" src=\"https://d20evgacl8spoj.cloudfront.net/uploads/images/study-material-compiler/ac77b308-23fd-4c41-a26c-c5df53f7e1a0-1664257491.svg\" srcset=\"https://d20evgacl8spoj.cloudfront.net/uploads/images/study-material-compiler/ac77b308-23fd-4c41-a26c-c5df53f7e1a0-1664257491.svg 1x, https://d20evgacl8spoj.cloudfront.net/uploads/images/study-material-compiler/ac77b308-23fd-4c41-a26c-c5df53f7e1a0-1664257491.svg 2x\" style=\"position:absolute;top:0;left:0;bottom:0;right:0;box-sizing:border-box;padding:0;border:none;margin:auto;display:block;width:0;height:0;min-width:100%;max-width:100%;min-height:100%;max-height:100%\"/>,\n",
       " <img alt=\"\" aria-hidden=\"true\" src=\"data:image/svg+xml,%3csvg%20xmlns=%27http://www.w3.org/2000/svg%27%20version=%271.1%27%20width=%2725%27%20height=%2725%27/%3e\" style=\"display:block;max-width:100%;width:initial;height:initial;background:none;opacity:1;border:0;margin:0;padding:0\"/>,\n",
       " <img alt=\"compiler-img\" class=\"\" data-nimg=\"intrinsic\" decoding=\"async\" src=\"data:image/gif;base64,R0lGODlhAQABAIAAAAAAAP///yH5BAEAAAAALAAAAAABAAEAAAIBRAA7\" style=\"position:absolute;top:0;left:0;bottom:0;right:0;box-sizing:border-box;padding:0;border:none;margin:auto;display:block;width:0;height:0;min-width:100%;max-width:100%;min-height:100%;max-height:100%\"/>,\n",
       " <img alt=\"compiler-img\" class=\"\" data-nimg=\"intrinsic\" decoding=\"async\" loading=\"lazy\" src=\"https://d20evgacl8spoj.cloudfront.net/uploads/images/study-material-compiler/0348b25c-17b7-4ade-962b-d71fd3753814-1663998384.svg\" srcset=\"https://d20evgacl8spoj.cloudfront.net/uploads/images/study-material-compiler/0348b25c-17b7-4ade-962b-d71fd3753814-1663998384.svg 1x, https://d20evgacl8spoj.cloudfront.net/uploads/images/study-material-compiler/0348b25c-17b7-4ade-962b-d71fd3753814-1663998384.svg 2x\" style=\"position:absolute;top:0;left:0;bottom:0;right:0;box-sizing:border-box;padding:0;border:none;margin:auto;display:block;width:0;height:0;min-width:100%;max-width:100%;min-height:100%;max-height:100%\"/>,\n",
       " <img alt=\"\" aria-hidden=\"true\" src=\"data:image/svg+xml,%3csvg%20xmlns=%27http://www.w3.org/2000/svg%27%20version=%271.1%27%20width=%2725%27%20height=%2725%27/%3e\" style=\"display:block;max-width:100%;width:initial;height:initial;background:none;opacity:1;border:0;margin:0;padding:0\"/>,\n",
       " <img alt=\"compiler-img\" class=\"\" data-nimg=\"intrinsic\" decoding=\"async\" src=\"data:image/gif;base64,R0lGODlhAQABAIAAAAAAAP///yH5BAEAAAAALAAAAAABAAEAAAIBRAA7\" style=\"position:absolute;top:0;left:0;bottom:0;right:0;box-sizing:border-box;padding:0;border:none;margin:auto;display:block;width:0;height:0;min-width:100%;max-width:100%;min-height:100%;max-height:100%\"/>,\n",
       " <img alt=\"compiler-img\" class=\"\" data-nimg=\"intrinsic\" decoding=\"async\" loading=\"lazy\" src=\"https://d20evgacl8spoj.cloudfront.net/uploads/images/study-material-compiler/6ead73cf-3385-44f1-a540-4f717fc7e467-1663998221.svg\" srcset=\"https://d20evgacl8spoj.cloudfront.net/uploads/images/study-material-compiler/6ead73cf-3385-44f1-a540-4f717fc7e467-1663998221.svg 1x, https://d20evgacl8spoj.cloudfront.net/uploads/images/study-material-compiler/6ead73cf-3385-44f1-a540-4f717fc7e467-1663998221.svg 2x\" style=\"position:absolute;top:0;left:0;bottom:0;right:0;box-sizing:border-box;padding:0;border:none;margin:auto;display:block;width:0;height:0;min-width:100%;max-width:100%;min-height:100%;max-height:100%\"/>,\n",
       " <img alt=\"https://d20evgacl8spoj.cloudfront.net/uploads/learning-course/images/lcourses/861b734d-1200-4ef9-9f80-fdcbf2d5918b-1654781169.png\" height=\"32\" src=\"https://d20evgacl8spoj.cloudfront.net/uploads/learning-course/images/lcourses/861b734d-1200-4ef9-9f80-fdcbf2d5918b-1654781169.png\" width=\"32\"/>,\n",
       " <img alt=\"https://d20evgacl8spoj.cloudfront.net/uploads/learning-course/images/lcourses/99334bcb-06ec-402d-8461-a1d886d97b8e-1654319072.png\" height=\"32\" src=\"https://d20evgacl8spoj.cloudfront.net/uploads/learning-course/images/lcourses/99334bcb-06ec-402d-8461-a1d886d97b8e-1654319072.png\" width=\"32\"/>,\n",
       " <img alt=\"https://d20evgacl8spoj.cloudfront.net/uploads/learning-course/images/lcourses/28a317b0-5132-4aba-8a49-5ea970f23a49-1671862480.png\" height=\"32\" src=\"https://d20evgacl8spoj.cloudfront.net/uploads/learning-course/images/lcourses/28a317b0-5132-4aba-8a49-5ea970f23a49-1671862480.png\" width=\"32\"/>,\n",
       " <img alt=\"https://d20evgacl8spoj.cloudfront.net/uploads/learning-course/images/lcourses/6dee8d03-5667-4b32-b483-af2b62dcd8d3-1647338788.png\" height=\"32\" src=\"https://d20evgacl8spoj.cloudfront.net/uploads/learning-course/images/lcourses/6dee8d03-5667-4b32-b483-af2b62dcd8d3-1647338788.png\" width=\"32\"/>,\n",
       " <img alt=\"https://d20evgacl8spoj.cloudfront.net/uploads/learning-course/images/lcourses/7fd6b3ae-d77a-4e80-80bc-02b5b47c32df-1647346507.png\" height=\"32\" src=\"https://d20evgacl8spoj.cloudfront.net/uploads/learning-course/images/lcourses/7fd6b3ae-d77a-4e80-80bc-02b5b47c32df-1647346507.png\" width=\"32\"/>,\n",
       " <img alt=\"https://d20evgacl8spoj.cloudfront.net/uploads/learning-course/images/lcourses/283eae7c-8974-49f2-a0a5-e0ac4c0e9215-1647338853.png\" height=\"32\" src=\"https://d20evgacl8spoj.cloudfront.net/uploads/learning-course/images/lcourses/283eae7c-8974-49f2-a0a5-e0ac4c0e9215-1647338853.png\" width=\"32\"/>,\n",
       " <img alt=\"https://d20evgacl8spoj.cloudfront.net/uploads/learning-course/images/lcourses/777b9062-963f-41b9-b379-dbd7e45155ac-1647341118.png\" height=\"32\" src=\"https://d20evgacl8spoj.cloudfront.net/uploads/learning-course/images/lcourses/777b9062-963f-41b9-b379-dbd7e45155ac-1647341118.png\" width=\"32\"/>,\n",
       " <img alt=\"https://d20evgacl8spoj.cloudfront.net/uploads/learning-course/images/lcourses/a111d660-d0b6-404b-86e1-6b729fbdc179-1683633265.png\" height=\"32\" src=\"https://d20evgacl8spoj.cloudfront.net/uploads/learning-course/images/lcourses/a111d660-d0b6-404b-86e1-6b729fbdc179-1683633265.png\" width=\"32\"/>,\n",
       " <img alt=\"https://d20evgacl8spoj.cloudfront.net/uploads/learning-course/images/lcourses/bbbfd30a-e52d-4e03-ae5c-d76e95e7a22f-1647341152.png\" height=\"32\" src=\"https://d20evgacl8spoj.cloudfront.net/uploads/learning-course/images/lcourses/bbbfd30a-e52d-4e03-ae5c-d76e95e7a22f-1647341152.png\" width=\"32\"/>,\n",
       " <img alt=\"https://d20evgacl8spoj.cloudfront.net/uploads/learning-course/images/lcourses/1d92f6e0-6c73-4cfe-97af-6c1107cb3a81-1647346526.png\" height=\"32\" src=\"https://d20evgacl8spoj.cloudfront.net/uploads/learning-course/images/lcourses/1d92f6e0-6c73-4cfe-97af-6c1107cb3a81-1647346526.png\" width=\"32\"/>,\n",
       " <img alt=\"https://d20evgacl8spoj.cloudfront.net/uploads/learning-course/images/lcourses/6866b1dd-63f8-4890-8575-b9694a0f2059-1647346542.png\" height=\"32\" src=\"https://d20evgacl8spoj.cloudfront.net/uploads/learning-course/images/lcourses/6866b1dd-63f8-4890-8575-b9694a0f2059-1647346542.png\" width=\"32\"/>,\n",
       " <img alt=\"https://d20evgacl8spoj.cloudfront.net/uploads/learning-course/images/lcourses/6f00770a-cf1d-44e6-b68b-a6cbce05d35c-1647341196.png\" height=\"32\" src=\"https://d20evgacl8spoj.cloudfront.net/uploads/learning-course/images/lcourses/6f00770a-cf1d-44e6-b68b-a6cbce05d35c-1647341196.png\" width=\"32\"/>,\n",
       " <img alt=\"https://d20evgacl8spoj.cloudfront.net/uploads/learning-course/images/lcourses/6809478b-e2d9-40c4-bd9b-49af619fe51d-1647341184.png\" height=\"32\" src=\"https://d20evgacl8spoj.cloudfront.net/uploads/learning-course/images/lcourses/6809478b-e2d9-40c4-bd9b-49af619fe51d-1647341184.png\" width=\"32\"/>,\n",
       " <img alt=\"https://d20evgacl8spoj.cloudfront.net/uploads/learning-course/images/lcourses/6dee8d03-5667-4b32-b483-af2b62dcd8d3-1647338788.png\" height=\"32\" src=\"https://d20evgacl8spoj.cloudfront.net/uploads/learning-course/images/lcourses/6dee8d03-5667-4b32-b483-af2b62dcd8d3-1647338788.png\" width=\"32\"/>,\n",
       " <img alt=\"https://d20evgacl8spoj.cloudfront.net/uploads/learning-course/images/lcourses/7fd6b3ae-d77a-4e80-80bc-02b5b47c32df-1647346507.png\" height=\"32\" src=\"https://d20evgacl8spoj.cloudfront.net/uploads/learning-course/images/lcourses/7fd6b3ae-d77a-4e80-80bc-02b5b47c32df-1647346507.png\" width=\"32\"/>,\n",
       " <img alt=\"https://d20evgacl8spoj.cloudfront.net/uploads/learning-course/images/lcourses/283eae7c-8974-49f2-a0a5-e0ac4c0e9215-1647338853.png\" height=\"32\" src=\"https://d20evgacl8spoj.cloudfront.net/uploads/learning-course/images/lcourses/283eae7c-8974-49f2-a0a5-e0ac4c0e9215-1647338853.png\" width=\"32\"/>,\n",
       " <img alt=\"https://d20evgacl8spoj.cloudfront.net/uploads/learning-course/images/lcourses/bbbfd30a-e52d-4e03-ae5c-d76e95e7a22f-1647341152.png\" height=\"32\" src=\"https://d20evgacl8spoj.cloudfront.net/uploads/learning-course/images/lcourses/bbbfd30a-e52d-4e03-ae5c-d76e95e7a22f-1647341152.png\" width=\"32\"/>,\n",
       " <img alt=\"https://d20evgacl8spoj.cloudfront.net/uploads/learning-course/images/lcourses/1d92f6e0-6c73-4cfe-97af-6c1107cb3a81-1647346526.png\" height=\"32\" src=\"https://d20evgacl8spoj.cloudfront.net/uploads/learning-course/images/lcourses/1d92f6e0-6c73-4cfe-97af-6c1107cb3a81-1647346526.png\" width=\"32\"/>,\n",
       " <img alt=\"https://d20evgacl8spoj.cloudfront.net/uploads/learning-course/images/lcourses/6866b1dd-63f8-4890-8575-b9694a0f2059-1647346542.png\" height=\"32\" src=\"https://d20evgacl8spoj.cloudfront.net/uploads/learning-course/images/lcourses/6866b1dd-63f8-4890-8575-b9694a0f2059-1647346542.png\" width=\"32\"/>,\n",
       " <img alt=\"https://d20evgacl8spoj.cloudfront.net/uploads/learning-course/images/lcourses/2abdc9df-3185-46bb-8d15-48f957251183-1698927883.png\" height=\"32\" src=\"https://d20evgacl8spoj.cloudfront.net/uploads/learning-course/images/lcourses/2abdc9df-3185-46bb-8d15-48f957251183-1698927883.png\" width=\"32\"/>,\n",
       " <img alt=\"https://d20evgacl8spoj.cloudfront.net/uploads/learning-course/images/lcourses/a111d660-d0b6-404b-86e1-6b729fbdc179-1683633265.png\" height=\"32\" src=\"https://d20evgacl8spoj.cloudfront.net/uploads/learning-course/images/lcourses/a111d660-d0b6-404b-86e1-6b729fbdc179-1683633265.png\" width=\"32\"/>,\n",
       " <img alt=\"https://d20evgacl8spoj.cloudfront.net/uploads/learning-course/images/lcourses/bbbfd30a-e52d-4e03-ae5c-d76e95e7a22f-1647341152.png\" height=\"32\" src=\"https://d20evgacl8spoj.cloudfront.net/uploads/learning-course/images/lcourses/bbbfd30a-e52d-4e03-ae5c-d76e95e7a22f-1647341152.png\" width=\"32\"/>,\n",
       " <img class=\"img-fluid\" height=\"40\" src=\"/images/ws-cube-tech-logo.svg\" width=\"210\"/>,\n",
       " <img class=\"img-fluid w-100\" src=\"https://d20evgacl8spoj.cloudfront.net/uploads/images/live-course/efd015c2-41c7-4a6b-a070-0f703772b6b4-1706854302.jpg\"/>,\n",
       " <img class=\"img-fluid w-100\" src=\"https://d20evgacl8spoj.cloudfront.net/uploads/images/live-course/15bc3a4a-e684-45b9-b22a-d156711f1505-1706854288.jpg\"/>,\n",
       " <img class=\"img-fluid w-100\" src=\"https://d20evgacl8spoj.cloudfront.net/uploads/images/live-course/3bc94ced-cf7a-4d08-9a65-581c38fb14c2-1706854314.jpg\"/>,\n",
       " <img class=\"img-fluid w-100\" src=\"https://d20evgacl8spoj.cloudfront.net/uploads/images/live-course/60d7ca0f-7dc9-4d96-a9b5-155fd32ebda8-1706854405.jpg\"/>,\n",
       " <img class=\"img-fluid w-100\" src=\"https://d20evgacl8spoj.cloudfront.net/uploads/images/live-course/948a0a2c-3199-44b3-a1c2-be41e5c5c3e1-1706854606.jpg\"/>,\n",
       " <img class=\"img-fluid w-100\" src=\"https://d20evgacl8spoj.cloudfront.net/uploads/images/live-course/34497f12-312c-4827-8dae-7d7914314e74-1706854737.jpg\"/>,\n",
       " <img alt=\"Google-Play-Img\" src=\"/images/play-store.png\"/>,\n",
       " <img alt=\"Phone-Img\" class=\"img-fluid\" loading=\"lazy\" src=\"https://d20evgacl8spoj.cloudfront.net/uploads/learning-course/images/home-page/3d2ca30d-f3bd-45b7-aae5-2c547e2a35a2-1690631574.webp\"/>,\n",
       " <img alt=\"\" aria-hidden=\"true\" src=\"data:image/svg+xml,%3csvg%20xmlns=%27http://www.w3.org/2000/svg%27%20version=%271.1%27%20width=%27192%27%20height=%2756%27/%3e\" style=\"display:block;max-width:100%;width:initial;height:initial;background:none;opacity:1;border:0;margin:0;padding:0\"/>,\n",
       " <img alt=\"Logo-Img\" class=\"img-fluid\" data-nimg=\"intrinsic\" decoding=\"async\" src=\"data:image/gif;base64,R0lGODlhAQABAIAAAAAAAP///yH5BAEAAAAALAAAAAABAAEAAAIBRAA7\" style=\"position:absolute;top:0;left:0;bottom:0;right:0;box-sizing:border-box;padding:0;border:none;margin:auto;display:block;width:0;height:0;min-width:100%;max-width:100%;min-height:100%;max-height:100%\"/>,\n",
       " <img alt=\"Logo-Img\" class=\"img-fluid\" data-nimg=\"intrinsic\" decoding=\"async\" loading=\"lazy\" src=\"/images/tutorials-freak-logo.svg\" srcset=\"/images/tutorials-freak-logo.svg 1x, /images/tutorials-freak-logo.svg 2x\" style=\"position:absolute;top:0;left:0;bottom:0;right:0;box-sizing:border-box;padding:0;border:none;margin:auto;display:block;width:0;height:0;min-width:100%;max-width:100%;min-height:100%;max-height:100%\"/>]"
      ]
     },
     "execution_count": 6,
     "metadata": {},
     "output_type": "execute_result"
    }
   ],
   "source": [
    "soup.find_all(\"img\")"
   ]
  },
  {
   "cell_type": "code",
   "execution_count": 7,
   "id": "969fcf01-4f6e-4cd9-adfb-fd3e3f8df5b4",
   "metadata": {
    "scrolled": true
   },
   "outputs": [
    {
     "name": "stdout",
     "output_type": "stream",
     "text": [
      "data:image/svg+xml,%3csvg%20xmlns=%27http://www.w3.org/2000/svg%27%20version=%271.1%27%20width=%27192%27%20height=%2756%27/%3e\n",
      "data:image/gif;base64,R0lGODlhAQABAIAAAAAAAP///yH5BAEAAAAALAAAAAABAAEAAAIBRAA7\n",
      "/images/tutorials-freak-logo.svg\n",
      "/images/search.svg\n",
      "data:image/gif;base64,R0lGODlhAQABAIAAAAAAAP///yH5BAEAAAAALAAAAAABAAEAAAIBRAA7\n",
      "/_next/image?url=%2Fimages%2Fbanner-middle.webp&w=3840&q=75\n",
      "/images/kotlin-img.svg\n",
      "/images/eagle-img.svg\n",
      "/images/apple-img.svg\n",
      "/images/angular-img.svg\n",
      "/images/python-img.svg\n",
      "/images/react-img.svg\n",
      "/images/android-img.svg\n",
      "/images/java-img.svg\n",
      "data:image/svg+xml,%3csvg%20xmlns=%27http://www.w3.org/2000/svg%27%20version=%271.1%27%20width=%2748%27%20height=%2748%27/%3e\n",
      "data:image/gif;base64,R0lGODlhAQABAIAAAAAAAP///yH5BAEAAAAALAAAAAABAAEAAAIBRAA7\n",
      "https://d20evgacl8spoj.cloudfront.net/uploads/learning-course/images/home-page/2cd6e0d7-4864-4837-a4a7-e0b120282e8d-1648197173.svg\n",
      "data:image/svg+xml,%3csvg%20xmlns=%27http://www.w3.org/2000/svg%27%20version=%271.1%27%20width=%2748%27%20height=%2748%27/%3e\n",
      "data:image/gif;base64,R0lGODlhAQABAIAAAAAAAP///yH5BAEAAAAALAAAAAABAAEAAAIBRAA7\n",
      "https://d20evgacl8spoj.cloudfront.net/uploads/learning-course/images/home-page/e5eb78ac-30fd-4443-8f23-63bd378c0c01-1645691302.svg\n",
      "data:image/svg+xml,%3csvg%20xmlns=%27http://www.w3.org/2000/svg%27%20version=%271.1%27%20width=%2748%27%20height=%2748%27/%3e\n",
      "data:image/gif;base64,R0lGODlhAQABAIAAAAAAAP///yH5BAEAAAAALAAAAAABAAEAAAIBRAA7\n",
      "https://d20evgacl8spoj.cloudfront.net/uploads/learning-course/images/home-page/7f47bf14-d748-40f4-b9a5-921b1bb4df3f-1648197078.svg\n",
      "/images/compilor.webp\n",
      "data:image/svg+xml,%3csvg%20xmlns=%27http://www.w3.org/2000/svg%27%20version=%271.1%27%20width=%2725%27%20height=%2725%27/%3e\n",
      "data:image/gif;base64,R0lGODlhAQABAIAAAAAAAP///yH5BAEAAAAALAAAAAABAAEAAAIBRAA7\n",
      "https://d20evgacl8spoj.cloudfront.net/uploads/images/study-material-compiler/f60ffd71-5b88-42f8-8396-75ad661dd4e9-1664191180.svg\n",
      "data:image/svg+xml,%3csvg%20xmlns=%27http://www.w3.org/2000/svg%27%20version=%271.1%27%20width=%2725%27%20height=%2725%27/%3e\n",
      "data:image/gif;base64,R0lGODlhAQABAIAAAAAAAP///yH5BAEAAAAALAAAAAABAAEAAAIBRAA7\n",
      "https://d20evgacl8spoj.cloudfront.net/uploads/images/study-material-compiler/b5be3eb0-8ae8-4e22-97c9-0cdcb2a250e4-1664191183.svg\n",
      "data:image/svg+xml,%3csvg%20xmlns=%27http://www.w3.org/2000/svg%27%20version=%271.1%27%20width=%2725%27%20height=%2725%27/%3e\n",
      "data:image/gif;base64,R0lGODlhAQABAIAAAAAAAP///yH5BAEAAAAALAAAAAABAAEAAAIBRAA7\n",
      "https://d20evgacl8spoj.cloudfront.net/uploads/images/study-material-compiler/329300da-2f51-419c-be8e-58262e91fac0-1664257495.svg\n",
      "data:image/svg+xml,%3csvg%20xmlns=%27http://www.w3.org/2000/svg%27%20version=%271.1%27%20width=%2725%27%20height=%2725%27/%3e\n",
      "data:image/gif;base64,R0lGODlhAQABAIAAAAAAAP///yH5BAEAAAAALAAAAAABAAEAAAIBRAA7\n",
      "https://d20evgacl8spoj.cloudfront.net/uploads/images/study-material-compiler/da172d80-2fd9-4c25-a180-5c4d7ef1b13b-1663998203.svg\n",
      "data:image/svg+xml,%3csvg%20xmlns=%27http://www.w3.org/2000/svg%27%20version=%271.1%27%20width=%2725%27%20height=%2725%27/%3e\n",
      "data:image/gif;base64,R0lGODlhAQABAIAAAAAAAP///yH5BAEAAAAALAAAAAABAAEAAAIBRAA7\n",
      "https://d20evgacl8spoj.cloudfront.net/uploads/images/study-material-compiler/ac77b308-23fd-4c41-a26c-c5df53f7e1a0-1664257491.svg\n",
      "data:image/svg+xml,%3csvg%20xmlns=%27http://www.w3.org/2000/svg%27%20version=%271.1%27%20width=%2725%27%20height=%2725%27/%3e\n",
      "data:image/gif;base64,R0lGODlhAQABAIAAAAAAAP///yH5BAEAAAAALAAAAAABAAEAAAIBRAA7\n",
      "https://d20evgacl8spoj.cloudfront.net/uploads/images/study-material-compiler/0348b25c-17b7-4ade-962b-d71fd3753814-1663998384.svg\n",
      "data:image/svg+xml,%3csvg%20xmlns=%27http://www.w3.org/2000/svg%27%20version=%271.1%27%20width=%2725%27%20height=%2725%27/%3e\n",
      "data:image/gif;base64,R0lGODlhAQABAIAAAAAAAP///yH5BAEAAAAALAAAAAABAAEAAAIBRAA7\n",
      "https://d20evgacl8spoj.cloudfront.net/uploads/images/study-material-compiler/6ead73cf-3385-44f1-a540-4f717fc7e467-1663998221.svg\n",
      "https://d20evgacl8spoj.cloudfront.net/uploads/learning-course/images/lcourses/861b734d-1200-4ef9-9f80-fdcbf2d5918b-1654781169.png\n",
      "https://d20evgacl8spoj.cloudfront.net/uploads/learning-course/images/lcourses/99334bcb-06ec-402d-8461-a1d886d97b8e-1654319072.png\n",
      "https://d20evgacl8spoj.cloudfront.net/uploads/learning-course/images/lcourses/28a317b0-5132-4aba-8a49-5ea970f23a49-1671862480.png\n",
      "https://d20evgacl8spoj.cloudfront.net/uploads/learning-course/images/lcourses/6dee8d03-5667-4b32-b483-af2b62dcd8d3-1647338788.png\n",
      "https://d20evgacl8spoj.cloudfront.net/uploads/learning-course/images/lcourses/7fd6b3ae-d77a-4e80-80bc-02b5b47c32df-1647346507.png\n",
      "https://d20evgacl8spoj.cloudfront.net/uploads/learning-course/images/lcourses/283eae7c-8974-49f2-a0a5-e0ac4c0e9215-1647338853.png\n",
      "https://d20evgacl8spoj.cloudfront.net/uploads/learning-course/images/lcourses/777b9062-963f-41b9-b379-dbd7e45155ac-1647341118.png\n",
      "https://d20evgacl8spoj.cloudfront.net/uploads/learning-course/images/lcourses/a111d660-d0b6-404b-86e1-6b729fbdc179-1683633265.png\n",
      "https://d20evgacl8spoj.cloudfront.net/uploads/learning-course/images/lcourses/bbbfd30a-e52d-4e03-ae5c-d76e95e7a22f-1647341152.png\n",
      "https://d20evgacl8spoj.cloudfront.net/uploads/learning-course/images/lcourses/1d92f6e0-6c73-4cfe-97af-6c1107cb3a81-1647346526.png\n",
      "https://d20evgacl8spoj.cloudfront.net/uploads/learning-course/images/lcourses/6866b1dd-63f8-4890-8575-b9694a0f2059-1647346542.png\n",
      "https://d20evgacl8spoj.cloudfront.net/uploads/learning-course/images/lcourses/6f00770a-cf1d-44e6-b68b-a6cbce05d35c-1647341196.png\n",
      "https://d20evgacl8spoj.cloudfront.net/uploads/learning-course/images/lcourses/6809478b-e2d9-40c4-bd9b-49af619fe51d-1647341184.png\n",
      "https://d20evgacl8spoj.cloudfront.net/uploads/learning-course/images/lcourses/6dee8d03-5667-4b32-b483-af2b62dcd8d3-1647338788.png\n",
      "https://d20evgacl8spoj.cloudfront.net/uploads/learning-course/images/lcourses/7fd6b3ae-d77a-4e80-80bc-02b5b47c32df-1647346507.png\n",
      "https://d20evgacl8spoj.cloudfront.net/uploads/learning-course/images/lcourses/283eae7c-8974-49f2-a0a5-e0ac4c0e9215-1647338853.png\n",
      "https://d20evgacl8spoj.cloudfront.net/uploads/learning-course/images/lcourses/bbbfd30a-e52d-4e03-ae5c-d76e95e7a22f-1647341152.png\n",
      "https://d20evgacl8spoj.cloudfront.net/uploads/learning-course/images/lcourses/1d92f6e0-6c73-4cfe-97af-6c1107cb3a81-1647346526.png\n",
      "https://d20evgacl8spoj.cloudfront.net/uploads/learning-course/images/lcourses/6866b1dd-63f8-4890-8575-b9694a0f2059-1647346542.png\n",
      "https://d20evgacl8spoj.cloudfront.net/uploads/learning-course/images/lcourses/2abdc9df-3185-46bb-8d15-48f957251183-1698927883.png\n",
      "https://d20evgacl8spoj.cloudfront.net/uploads/learning-course/images/lcourses/a111d660-d0b6-404b-86e1-6b729fbdc179-1683633265.png\n",
      "https://d20evgacl8spoj.cloudfront.net/uploads/learning-course/images/lcourses/bbbfd30a-e52d-4e03-ae5c-d76e95e7a22f-1647341152.png\n",
      "/images/ws-cube-tech-logo.svg\n",
      "https://d20evgacl8spoj.cloudfront.net/uploads/images/live-course/efd015c2-41c7-4a6b-a070-0f703772b6b4-1706854302.jpg\n",
      "https://d20evgacl8spoj.cloudfront.net/uploads/images/live-course/15bc3a4a-e684-45b9-b22a-d156711f1505-1706854288.jpg\n",
      "https://d20evgacl8spoj.cloudfront.net/uploads/images/live-course/3bc94ced-cf7a-4d08-9a65-581c38fb14c2-1706854314.jpg\n",
      "https://d20evgacl8spoj.cloudfront.net/uploads/images/live-course/60d7ca0f-7dc9-4d96-a9b5-155fd32ebda8-1706854405.jpg\n",
      "https://d20evgacl8spoj.cloudfront.net/uploads/images/live-course/948a0a2c-3199-44b3-a1c2-be41e5c5c3e1-1706854606.jpg\n",
      "https://d20evgacl8spoj.cloudfront.net/uploads/images/live-course/34497f12-312c-4827-8dae-7d7914314e74-1706854737.jpg\n",
      "/images/play-store.png\n",
      "https://d20evgacl8spoj.cloudfront.net/uploads/learning-course/images/home-page/3d2ca30d-f3bd-45b7-aae5-2c547e2a35a2-1690631574.webp\n",
      "data:image/svg+xml,%3csvg%20xmlns=%27http://www.w3.org/2000/svg%27%20version=%271.1%27%20width=%27192%27%20height=%2756%27/%3e\n",
      "data:image/gif;base64,R0lGODlhAQABAIAAAAAAAP///yH5BAEAAAAALAAAAAABAAEAAAIBRAA7\n",
      "/images/tutorials-freak-logo.svg\n"
     ]
    }
   ],
   "source": [
    "for s in soup.find_all(\"img\"):\n",
    "    print(s.get(\"src\"))"
   ]
  },
  {
   "cell_type": "code",
   "execution_count": 8,
   "id": "5f39798e-ad64-4aef-9c0e-c3707464c45a",
   "metadata": {},
   "outputs": [
    {
     "name": "stdout",
     "output_type": "stream",
     "text": [
      "\n",
      "Logo-Img\n",
      "Logo-Img\n",
      "Serch-Img\n",
      "Banner-Img\n",
      "Banner-Img\n",
      "Course-Img\n",
      "Course-Img\n",
      "Course-Img\n",
      "Course-Img\n",
      "Course-Img\n",
      "Course-Img\n",
      "Course-Img\n",
      "Course-Img\n",
      "\n",
      "Why-Choose-Img\n",
      "Why-Choose-Img\n",
      "\n",
      "Why-Choose-Img\n",
      "Why-Choose-Img\n",
      "\n",
      "Why-Choose-Img\n",
      "Why-Choose-Img\n",
      "\n",
      "\n",
      "compiler-img\n",
      "compiler-img\n",
      "\n",
      "compiler-img\n",
      "compiler-img\n",
      "\n",
      "compiler-img\n",
      "compiler-img\n",
      "\n",
      "compiler-img\n",
      "compiler-img\n",
      "\n",
      "compiler-img\n",
      "compiler-img\n",
      "\n",
      "compiler-img\n",
      "compiler-img\n",
      "\n",
      "compiler-img\n",
      "compiler-img\n",
      "https://d20evgacl8spoj.cloudfront.net/uploads/learning-course/images/lcourses/861b734d-1200-4ef9-9f80-fdcbf2d5918b-1654781169.png\n",
      "https://d20evgacl8spoj.cloudfront.net/uploads/learning-course/images/lcourses/99334bcb-06ec-402d-8461-a1d886d97b8e-1654319072.png\n",
      "https://d20evgacl8spoj.cloudfront.net/uploads/learning-course/images/lcourses/28a317b0-5132-4aba-8a49-5ea970f23a49-1671862480.png\n",
      "https://d20evgacl8spoj.cloudfront.net/uploads/learning-course/images/lcourses/6dee8d03-5667-4b32-b483-af2b62dcd8d3-1647338788.png\n",
      "https://d20evgacl8spoj.cloudfront.net/uploads/learning-course/images/lcourses/7fd6b3ae-d77a-4e80-80bc-02b5b47c32df-1647346507.png\n",
      "https://d20evgacl8spoj.cloudfront.net/uploads/learning-course/images/lcourses/283eae7c-8974-49f2-a0a5-e0ac4c0e9215-1647338853.png\n",
      "https://d20evgacl8spoj.cloudfront.net/uploads/learning-course/images/lcourses/777b9062-963f-41b9-b379-dbd7e45155ac-1647341118.png\n",
      "https://d20evgacl8spoj.cloudfront.net/uploads/learning-course/images/lcourses/a111d660-d0b6-404b-86e1-6b729fbdc179-1683633265.png\n",
      "https://d20evgacl8spoj.cloudfront.net/uploads/learning-course/images/lcourses/bbbfd30a-e52d-4e03-ae5c-d76e95e7a22f-1647341152.png\n",
      "https://d20evgacl8spoj.cloudfront.net/uploads/learning-course/images/lcourses/1d92f6e0-6c73-4cfe-97af-6c1107cb3a81-1647346526.png\n",
      "https://d20evgacl8spoj.cloudfront.net/uploads/learning-course/images/lcourses/6866b1dd-63f8-4890-8575-b9694a0f2059-1647346542.png\n",
      "https://d20evgacl8spoj.cloudfront.net/uploads/learning-course/images/lcourses/6f00770a-cf1d-44e6-b68b-a6cbce05d35c-1647341196.png\n",
      "https://d20evgacl8spoj.cloudfront.net/uploads/learning-course/images/lcourses/6809478b-e2d9-40c4-bd9b-49af619fe51d-1647341184.png\n",
      "https://d20evgacl8spoj.cloudfront.net/uploads/learning-course/images/lcourses/6dee8d03-5667-4b32-b483-af2b62dcd8d3-1647338788.png\n",
      "https://d20evgacl8spoj.cloudfront.net/uploads/learning-course/images/lcourses/7fd6b3ae-d77a-4e80-80bc-02b5b47c32df-1647346507.png\n",
      "https://d20evgacl8spoj.cloudfront.net/uploads/learning-course/images/lcourses/283eae7c-8974-49f2-a0a5-e0ac4c0e9215-1647338853.png\n",
      "https://d20evgacl8spoj.cloudfront.net/uploads/learning-course/images/lcourses/bbbfd30a-e52d-4e03-ae5c-d76e95e7a22f-1647341152.png\n",
      "https://d20evgacl8spoj.cloudfront.net/uploads/learning-course/images/lcourses/1d92f6e0-6c73-4cfe-97af-6c1107cb3a81-1647346526.png\n",
      "https://d20evgacl8spoj.cloudfront.net/uploads/learning-course/images/lcourses/6866b1dd-63f8-4890-8575-b9694a0f2059-1647346542.png\n",
      "https://d20evgacl8spoj.cloudfront.net/uploads/learning-course/images/lcourses/2abdc9df-3185-46bb-8d15-48f957251183-1698927883.png\n",
      "https://d20evgacl8spoj.cloudfront.net/uploads/learning-course/images/lcourses/a111d660-d0b6-404b-86e1-6b729fbdc179-1683633265.png\n",
      "https://d20evgacl8spoj.cloudfront.net/uploads/learning-course/images/lcourses/bbbfd30a-e52d-4e03-ae5c-d76e95e7a22f-1647341152.png\n",
      "None\n",
      "None\n",
      "None\n",
      "None\n",
      "None\n",
      "None\n",
      "None\n",
      "Google-Play-Img\n",
      "Phone-Img\n",
      "\n",
      "Logo-Img\n",
      "Logo-Img\n"
     ]
    }
   ],
   "source": [
    "for s in soup.find_all(\"img\"):\n",
    "    print(s.get(\"alt\"))"
   ]
  },
  {
   "cell_type": "code",
   "execution_count": null,
   "id": "c11d1d02-b025-427b-8c67-655301524989",
   "metadata": {},
   "outputs": [],
   "source": []
  }
 ],
 "metadata": {
  "kernelspec": {
   "display_name": "Python 3 (ipykernel)",
   "language": "python",
   "name": "python3"
  },
  "language_info": {
   "codemirror_mode": {
    "name": "ipython",
    "version": 3
   },
   "file_extension": ".py",
   "mimetype": "text/x-python",
   "name": "python",
   "nbconvert_exporter": "python",
   "pygments_lexer": "ipython3",
   "version": "3.13.3"
  }
 },
 "nbformat": 4,
 "nbformat_minor": 5
}
