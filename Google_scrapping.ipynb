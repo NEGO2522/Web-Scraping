{
 "cells": [
  {
   "cell_type": "code",
   "execution_count": 1,
   "id": "52540988-1784-468b-89fa-88e079075385",
   "metadata": {},
   "outputs": [],
   "source": [
    "import requests\n",
    "from bs4 import BeautifulSoup"
   ]
  },
  {
   "cell_type": "code",
   "execution_count": 4,
   "id": "fb7ac641-61f9-432d-9108-ab33b6fc0c56",
   "metadata": {},
   "outputs": [
    {
     "data": {
      "text/plain": [
       "200"
      ]
     },
     "execution_count": 4,
     "metadata": {},
     "output_type": "execute_result"
    }
   ],
   "source": [
    "web = requests.get(\"https://www.google.com\")\n",
    "web.status_code"
   ]
  },
  {
   "cell_type": "code",
   "execution_count": 5,
   "id": "09b762eb-1fc8-463a-9d27-3773c9f0716e",
   "metadata": {
    "scrolled": true
   },
   "outputs": [
    {
     "name": "stdout",
     "output_type": "stream",
     "text": [
      "<!DOCTYPE html>\n",
      "<html itemscope=\"\" itemtype=\"http://schema.org/WebPage\" lang=\"en-IN\">\n",
      " <head>\n",
      "  <meta content=\"text/html; charset=utf-8\" http-equiv=\"Content-Type\"/>\n",
      "  <meta content=\"/logos/doodles/2025/rise-of-the-half-moon-april-6753651837110767.2-l.png\" itemprop=\"image\"/>\n",
      "  <meta content=\"Rise of the Half Moon\" property=\"twitter:title\"/>\n",
      "  <meta content=\"Rise of the Half Moon #GoogleDoodle\" property=\"twitter:description\"/>\n",
      "  <meta content=\"Rise of the Half Moon #GoogleDoodle\" property=\"og:description\"/>\n",
      "  <meta content=\"summary_large_image\" property=\"twitter:card\"/>\n",
      "  <meta content=\"@GoogleDoodles\" property=\"twitter:site\"/>\n",
      "  <meta content=\"https://www.google.com/logos/doodles/2025/rise-of-the-half-moon-april-6753651837110767.2-2xa.gif\" property=\"twitter:image\"/>\n",
      "  <meta content=\"https://www.google.com/logos/doodles/2025/rise-of-the-half-moon-april-6753651837110767.2-2xa.gif\" property=\"og:image\"/>\n",
      "  <meta content=\"1000\" property=\"og:image:width\"/>\n",
      "  <meta content=\"400\" property=\"og:image:height\"/>\n",
      "  <meta content=\"https://www.google.com/logos/doodles/2025/rise-of-the-half-moon-april-6753651837110767.2-2xa.gif\" property=\"og:url\"/>\n",
      "  <meta content=\"video.other\" property=\"og:type\"/>\n",
      "  <title>\n",
      "   Google\n",
      "  </title>\n",
      "  <script nonce=\"cgXlrtkVoUwFjX1HpsjIjQ\">\n",
      "   (function(){var _g={kEI:'ISsKaOiWNdqj1sQPmbyxkQs',kEXPI:'0,202792,1153990,2343487,1115,503816,34845,14112,64701,360901,290044,11106,5230575,108,85,36812450,25240237,119106,7606,14110,8944,3004,53221,6756,23879,9139,4599,328,6225,2949,21417,26209,13589,6748,8302,8205,3292,4134,30379,28334,50106,2847,1258,353,7384,7000,1,6,265,4224,74,5796,951,937,1209,4617,5773,4311,2063,2603,7675,8309,7,2644,3050,2,1667,4905,5215,50,1635,3261,459,2531,35,3420,2117,747,893,1598,2,311,4609,3206,570,4189,1957,186,4852,354,658,609,1094,2877,445,99,3506,13146,4,1144,893,2584,1515,1207,9,859,1441,106,4024,1130,1610,123,716,5,696,2731,131,2,1,2,2,2,3,2963,1421,181,517,3617,2995,300,344,10,3,432,156,3,863,2,5,2,292,306,1,1240,238,31,1100,830,418,513,2,1234,5,1043,1106,2063,622,1,24,645,82,2712,2,81,179,3,671,363,30,231,4,1,2,2,2,437,469,44,282,252,4,133,1,242,151,520,15,1,64,7,391,547,73,208,5,27,255,237,198,393,519,158,2294,306,1133,496,29,1,794,827,798,2,970,345,1226,187,77,91,231,501,2,3,2,2,2,711,1342,4,224,17,46,79,110,290,30,308,286,65,1235,164,29,4,916,71,438,3,53,20,323,61,1,1,1519,63,93,200,174,93,173,822,20,156,12,193,22,643,566,63,69,3,1,206,921,167,647,48,121,4,5,500,111,80,209,3,692,629,301,1214,20887083,404693,18,4540,8,4177,1462,1182,5,2252,2097,472,608,3457,110,198,683,3,113,64,235,15,462,1727,346,621,3637312,2386179,2506199,974',kBL:'ewvN',kOPI:89978449};(function(){var a;((a=window.google)==null?0:a.stvsc)?google.kEI=_g.kEI:window.google=_g;}).call(this);})();(function(){google.sn='webhp';google.kHL='en-IN';})();(function(){\n",
      "var g=this||self;function k(){return window.google&&window.google.kOPI||null};var l,m=[];function n(a){for(var b;a&&(!a.getAttribute||!(b=a.getAttribute(\"eid\")));)a=a.parentNode;return b||l}function p(a){for(var b=null;a&&(!a.getAttribute||!(b=a.getAttribute(\"leid\")));)a=a.parentNode;return b}function q(a){/^http:/i.test(a)&&window.location.protocol===\"https:\"&&(google.ml&&google.ml(Error(\"a\"),!1,{src:a,glmm:1}),a=\"\");return a}\n",
      "function r(a,b,d,c,h){var e=\"\";b.search(\"&ei=\")===-1&&(e=\"&ei=\"+n(c),b.search(\"&lei=\")===-1&&(c=p(c))&&(e+=\"&lei=\"+c));var f=b.search(\"&cshid=\")===-1&&a!==\"slh\";c=\"&zx=\"+Date.now().toString();g._cshid&&f&&(c+=\"&cshid=\"+g._cshid);(d=d())&&(c+=\"&opi=\"+d);return\"/\"+(h||\"gen_204\")+\"?atyp=i&ct=\"+String(a)+\"&cad=\"+(b+e+c)};l=google.kEI;google.getEI=n;google.getLEI=p;google.ml=function(){return null};google.log=function(a,b,d,c,h,e){e=e===void 0?k:e;d||(d=r(a,b,e,c,h));if(d=q(d)){a=new Image;var f=m.length;m[f]=a;a.onerror=a.onload=a.onabort=function(){delete m[f]};a.src=d}};google.logUrl=function(a,b){b=b===void 0?k:b;return r(\"\",a,b)};}).call(this);(function(){google.y={};google.sy=[];var d;(d=google).x||(d.x=function(a,b){if(a)var c=a.id;else{do c=Math.random();while(google.y[c])}google.y[c]=[a,b];return!1});var e;(e=google).sx||(e.sx=function(a){google.sy.push(a)});google.lm=[];var f;(f=google).plm||(f.plm=function(a){google.lm.push.apply(google.lm,a)});google.lq=[];var g;(g=google).load||(g.load=function(a,b,c){google.lq.push([[a],b,c])});var h;(h=google).loadAll||(h.loadAll=function(a,b){google.lq.push([a,b])});google.bx=!1;var k;(k=google).lx||(k.lx=function(){});var l=[],m;(m=google).fce||(m.fce=function(a,b,c,n){l.push([a,b,c,n])});google.qce=l;}).call(this);google.f={};(function(){\n",
      "document.documentElement.addEventListener(\"submit\",function(b){var a;if(a=b.target){var c=a.getAttribute(\"data-submitfalse\");a=c===\"1\"||c===\"q\"&&!a.elements.q.value?!0:!1}else a=!1;a&&(b.preventDefault(),b.stopPropagation())},!0);document.documentElement.addEventListener(\"click\",function(b){var a;a:{for(a=b.target;a&&a!==document.documentElement;a=a.parentElement)if(a.tagName===\"A\"){a=a.getAttribute(\"data-nohref\")===\"1\";break a}a=!1}a&&b.preventDefault()},!0);}).call(this);\n",
      "  </script>\n",
      "  <style>\n",
      "   #gbar,#guser{font-size:13px;padding-top:1px !important;}#gbar{height:22px}#guser{padding-bottom:7px !important;text-align:right}.gbh,.gbd{border-top:1px solid #c9d7f1;font-size:1px}.gbh{height:0;position:absolute;top:24px;width:100%}@media all{.gb1{height:22px;margin-right:.5em;vertical-align:top}#gbar{float:left}}a.gb1,a.gb4{text-decoration:underline !important}a.gb1,a.gb4{color:#00c !important}.gbi .gb4{color:#dd8e27 !important}.gbf .gb4{color:#900 !important}\n",
      "  </style>\n",
      "  <style>\n",
      "   body,td,a,p,.h{font-family:sans-serif}body{margin:0;overflow-y:scroll}#gog{padding:3px 8px 0}td{line-height:.8em}.gac_m td{line-height:17px}form{margin-bottom:20px}.h{color:#1967d2}em{font-weight:bold;font-style:normal}.lst{height:25px;width:496px}.gsfi,.lst{font:18px sans-serif}.gsfs{font:17px sans-serif}.ds{display:inline-box;display:inline-block;margin:3px 0 4px;margin-left:4px}input{font-family:inherit}body{background:#fff;color:#000}a{color:#681da8;text-decoration:none}a:hover,a:active{text-decoration:underline}.fl a{color:#1967d2}a:visited{color:#681da8}.sblc{padding-top:5px}.sblc a{display:block;margin:2px 0;margin-left:13px;font-size:11px}.lsbb{background:#f8f9fa;border:solid 1px;border-color:#dadce0 #70757a #70757a #dadce0;height:30px}.lsbb{display:block}#WqQANb a{display:inline-block;margin:0 12px}.lsb{background:url(/images/nav_logo229.png) 0 -261px repeat-x;color:#000;border:none;cursor:pointer;height:30px;margin:0;outline:0;font:15px sans-serif;vertical-align:top}.lsb:active{background:#dadce0}.lst:focus{outline:none}\n",
      "  </style>\n",
      "  <script nonce=\"cgXlrtkVoUwFjX1HpsjIjQ\">\n",
      "   (function(){window.google.erd={jsr:1,bv:2207,de:true,dpf:'rqw5qFIsC5HVSZZ7N9VLJK9yH9P6bDacx3Klz2gkf0Y'};\n",
      "var g=this||self;var k,l=(k=g.mei)!=null?k:1,m,p=(m=g.diel)!=null?m:0,q,r=(q=g.sdo)!=null?q:!0,t=0,u,w=google.erd,x=w.jsr;google.ml=function(a,b,d,n,e){e=e===void 0?2:e;b&&(u=a&&a.message);d===void 0&&(d={});d.cad=\"ple_\"+google.ple+\".aple_\"+google.aple;if(google.dl)return google.dl(a,e,d,!0),null;b=d;if(x<0){window.console&&console.error(a,b);if(x===-2)throw a;b=!1}else b=!a||!a.message||a.message===\"Error loading script\"||t>=l&&!n?!1:!0;if(!b)return null;t++;d=d||{};b=encodeURIComponent;var c=\"/gen_204?atyp=i&ei=\"+b(google.kEI);google.kEXPI&&(c+=\"&jexpid=\"+b(google.kEXPI));c+=\"&srcpg=\"+b(google.sn)+\"&jsr=\"+b(w.jsr)+\n",
      "\"&bver=\"+b(w.bv);w.dpf&&(c+=\"&dpf=\"+b(w.dpf));var f=a.lineNumber;f!==void 0&&(c+=\"&line=\"+f);var h=a.fileName;h&&(h.indexOf(\"-extension:/\")>0&&(e=3),c+=\"&script=\"+b(h),f&&h===window.location.href&&(f=document.documentElement.outerHTML.split(\"\\n\")[f],c+=\"&cad=\"+b(f?f.substring(0,300):\"No script found.\")));google.ple&&google.ple===1&&(e=2);c+=\"&jsel=\"+e;for(var v in d)c+=\"&\",c+=b(v),c+=\"=\",c+=b(d[v]);c=c+\"&emsg=\"+b(a.name+\": \"+a.message);c=c+\"&jsst=\"+b(a.stack||\"N/A\");c.length>=12288&&(c=c.substr(0,12288));a=c;n||google.log(0,\"\",a);return a};window.onerror=function(a,b,d,n,e){u!==a&&(a=e instanceof Error?e:Error(a),d===void 0||\"lineNumber\"in a||(a.lineNumber=d),b===void 0||\"fileName\"in a||(a.fileName=b),google.ml(a,!1,void 0,!1,a.name===\"SyntaxError\"||a.message.substring(0,11)===\"SyntaxError\"||a.message.indexOf(\"Script error\")!==-1?3:p));u=null;r&&t>=l&&(window.onerror=null)};})();\n",
      "  </script>\n",
      " </head>\n",
      " <body bgcolor=\"#fff\">\n",
      "  <script nonce=\"cgXlrtkVoUwFjX1HpsjIjQ\">\n",
      "   (function(){var src='/images/nav_logo229.png';var iesg=false;document.body.onload = function(){window.n && window.n();if (document.images){new Image().src=src;}\n",
      "if (!iesg){document.f&&document.f.q.focus();document.gbqf&&document.gbqf.q.focus();}\n",
      "}\n",
      "})();\n",
      "  </script>\n",
      "  <div id=\"mngb\">\n",
      "   <div id=\"gbar\">\n",
      "    <nobr>\n",
      "     <b class=\"gb1\">\n",
      "      Search\n",
      "     </b>\n",
      "     <a class=\"gb1\" href=\"https://www.google.com/imghp?hl=en&amp;tab=wi\">\n",
      "      Images\n",
      "     </a>\n",
      "     <a class=\"gb1\" href=\"https://maps.google.co.in/maps?hl=en&amp;tab=wl\">\n",
      "      Maps\n",
      "     </a>\n",
      "     <a class=\"gb1\" href=\"https://play.google.com/?hl=en&amp;tab=w8\">\n",
      "      Play\n",
      "     </a>\n",
      "     <a class=\"gb1\" href=\"https://www.youtube.com/?tab=w1\">\n",
      "      YouTube\n",
      "     </a>\n",
      "     <a class=\"gb1\" href=\"https://news.google.com/?tab=wn\">\n",
      "      News\n",
      "     </a>\n",
      "     <a class=\"gb1\" href=\"https://mail.google.com/mail/?tab=wm\">\n",
      "      Gmail\n",
      "     </a>\n",
      "     <a class=\"gb1\" href=\"https://drive.google.com/?tab=wo\">\n",
      "      Drive\n",
      "     </a>\n",
      "     <a class=\"gb1\" href=\"https://www.google.co.in/intl/en/about/products?tab=wh\" style=\"text-decoration:none\">\n",
      "      <u>\n",
      "       More\n",
      "      </u>\n",
      "      »\n",
      "     </a>\n",
      "    </nobr>\n",
      "   </div>\n",
      "   <div id=\"guser\" width=\"100%\">\n",
      "    <nobr>\n",
      "     <span class=\"gbi\" id=\"gbn\">\n",
      "     </span>\n",
      "     <span class=\"gbf\" id=\"gbf\">\n",
      "     </span>\n",
      "     <span id=\"gbe\">\n",
      "     </span>\n",
      "     <a class=\"gb4\" href=\"http://www.google.co.in/history/optout?hl=en\">\n",
      "      Web History\n",
      "     </a>\n",
      "     |\n",
      "     <a class=\"gb4\" href=\"/preferences?hl=en\">\n",
      "      Settings\n",
      "     </a>\n",
      "     |\n",
      "     <a class=\"gb4\" href=\"https://accounts.google.com/ServiceLogin?hl=en&amp;passive=true&amp;continue=https://www.google.com/&amp;ec=GAZAAQ\" id=\"gb_70\" target=\"_top\">\n",
      "      Sign in\n",
      "     </a>\n",
      "    </nobr>\n",
      "   </div>\n",
      "   <div class=\"gbh\" style=\"left:0\">\n",
      "   </div>\n",
      "   <div class=\"gbh\" style=\"right:0\">\n",
      "   </div>\n",
      "  </div>\n",
      "  <center>\n",
      "   <br clear=\"all\" id=\"lgpd\"/>\n",
      "   <div id=\"XjhHGf\">\n",
      "    <a href=\"/search?sca_esv=b06c9e1a641d011b&amp;ie=UTF-8&amp;q=Lunar+phases&amp;oi=ddle&amp;noiga=1&amp;ct=408023878&amp;hl=en-GB&amp;sa=X&amp;ved=0ahUKEwioq5bF0vCMAxXakZUCHRleLLIQPQgD\">\n",
      "     <img alt=\"Rise of the Half Moon\" border=\"0\" height=\"200\" id=\"hplogo\" src=\"/logos/doodles/2025/rise-of-the-half-moon-april-6753651837110767.2-l.png\" title=\"Rise of the Half Moon\" width=\"500\"/>\n",
      "     <br/>\n",
      "    </a>\n",
      "    <br/>\n",
      "   </div>\n",
      "   <form action=\"/search\" name=\"f\">\n",
      "    <table cellpadding=\"0\" cellspacing=\"0\">\n",
      "     <tr valign=\"top\">\n",
      "      <td width=\"25%\">\n",
      "      </td>\n",
      "      <td align=\"center\" nowrap=\"\">\n",
      "       <input name=\"ie\" type=\"hidden\" value=\"ISO-8859-1\"/>\n",
      "       <input name=\"hl\" type=\"hidden\" value=\"en-IN\"/>\n",
      "       <input name=\"source\" type=\"hidden\" value=\"hp\"/>\n",
      "       <input name=\"biw\" type=\"hidden\"/>\n",
      "       <input name=\"bih\" type=\"hidden\"/>\n",
      "       <div class=\"ds\" style=\"height:32px;margin:4px 0\">\n",
      "        <input autocomplete=\"off\" class=\"lst\" maxlength=\"2048\" name=\"q\" size=\"57\" style=\"margin:0;padding:5px 8px 0 6px;vertical-align:top;color:#000\" title=\"Google Search\" value=\"\"/>\n",
      "       </div>\n",
      "       <br style=\"line-height:0\"/>\n",
      "       <span class=\"ds\">\n",
      "        <span class=\"lsbb\">\n",
      "         <input class=\"lsb\" name=\"btnG\" type=\"submit\" value=\"Google Search\"/>\n",
      "        </span>\n",
      "       </span>\n",
      "       <span class=\"ds\">\n",
      "        <span class=\"lsbb\">\n",
      "         <input class=\"lsb\" id=\"tsuid_ISsKaOiWNdqj1sQPmbyxkQs_1\" name=\"btnI\" type=\"submit\" value=\"I'm Feeling Lucky\"/>\n",
      "         <script nonce=\"cgXlrtkVoUwFjX1HpsjIjQ\">\n",
      "          (function(){var id='tsuid_ISsKaOiWNdqj1sQPmbyxkQs_1';document.getElementById(id).onclick = function(){if (this.form.q.value){this.checked = 1;if (this.form.iflsig)this.form.iflsig.disabled = false;}\n",
      "else top.location='/doodles/';};})();\n",
      "         </script>\n",
      "         <input name=\"iflsig\" type=\"hidden\" value=\"ACkRmUkAAAAAaAo5MdFK0O8v8TzGgnXiHFdoF2iF-MA0\"/>\n",
      "        </span>\n",
      "       </span>\n",
      "      </td>\n",
      "      <td align=\"left\" class=\"fl sblc\" nowrap=\"\" width=\"25%\">\n",
      "       <a href=\"/advanced_search?hl=en-IN&amp;authuser=0\">\n",
      "        Advanced search\n",
      "       </a>\n",
      "      </td>\n",
      "     </tr>\n",
      "    </table>\n",
      "    <input id=\"gbv\" name=\"gbv\" type=\"hidden\" value=\"1\"/>\n",
      "    <script nonce=\"cgXlrtkVoUwFjX1HpsjIjQ\">\n",
      "     (function(){var a,b=\"1\";if(document&&document.getElementById)if(typeof XMLHttpRequest!=\"undefined\")b=\"2\";else if(typeof ActiveXObject!=\"undefined\"){var c,d,e=[\"MSXML2.XMLHTTP.6.0\",\"MSXML2.XMLHTTP.3.0\",\"MSXML2.XMLHTTP\",\"Microsoft.XMLHTTP\"];for(c=0;d=e[c++];)try{new ActiveXObject(d),b=\"2\"}catch(h){}}a=b;if(a==\"2\"&&location.search.indexOf(\"&gbv=2\")==-1){var f=google.gbvu,g=document.getElementById(\"gbv\");g&&(g.value=a);f&&window.setTimeout(function(){location.href=f},0)};}).call(this);\n",
      "    </script>\n",
      "   </form>\n",
      "   <div style=\"font-size:83%;min-height:3.5em\">\n",
      "    <br/>\n",
      "    <div id=\"gws-output-pages-elements-homepage_additional_languages__als\">\n",
      "     <style>\n",
      "      #gws-output-pages-elements-homepage_additional_languages__als{font-size:small;margin-bottom:24px}#SIvCob{color:#474747;display:inline-block;line-height:28px;}#SIvCob a{padding:0 3px;}.H6sW5{display:inline-block;margin:0 2px;white-space:nowrap}.z4hgWe{display:inline-block;margin:0 2px}\n",
      "     </style>\n",
      "     <div id=\"SIvCob\">\n",
      "      Google offered in:\n",
      "      <a href=\"https://www.google.com/setprefs?sig=0_By4pbqoCOVaPjpe7F1aAxMnRqoI%3D&amp;hl=hi&amp;source=homepage&amp;sa=X&amp;ved=0ahUKEwioq5bF0vCMAxXakZUCHRleLLIQ2ZgBCAY\">\n",
      "       हिन्दी\n",
      "      </a>\n",
      "      <a href=\"https://www.google.com/setprefs?sig=0_By4pbqoCOVaPjpe7F1aAxMnRqoI%3D&amp;hl=bn&amp;source=homepage&amp;sa=X&amp;ved=0ahUKEwioq5bF0vCMAxXakZUCHRleLLIQ2ZgBCAc\">\n",
      "       বাংলা\n",
      "      </a>\n",
      "      <a href=\"https://www.google.com/setprefs?sig=0_By4pbqoCOVaPjpe7F1aAxMnRqoI%3D&amp;hl=te&amp;source=homepage&amp;sa=X&amp;ved=0ahUKEwioq5bF0vCMAxXakZUCHRleLLIQ2ZgBCAg\">\n",
      "       తెలుగు\n",
      "      </a>\n",
      "      <a href=\"https://www.google.com/setprefs?sig=0_By4pbqoCOVaPjpe7F1aAxMnRqoI%3D&amp;hl=mr&amp;source=homepage&amp;sa=X&amp;ved=0ahUKEwioq5bF0vCMAxXakZUCHRleLLIQ2ZgBCAk\">\n",
      "       मराठी\n",
      "      </a>\n",
      "      <a href=\"https://www.google.com/setprefs?sig=0_By4pbqoCOVaPjpe7F1aAxMnRqoI%3D&amp;hl=ta&amp;source=homepage&amp;sa=X&amp;ved=0ahUKEwioq5bF0vCMAxXakZUCHRleLLIQ2ZgBCAo\">\n",
      "       தமிழ்\n",
      "      </a>\n",
      "      <a href=\"https://www.google.com/setprefs?sig=0_By4pbqoCOVaPjpe7F1aAxMnRqoI%3D&amp;hl=gu&amp;source=homepage&amp;sa=X&amp;ved=0ahUKEwioq5bF0vCMAxXakZUCHRleLLIQ2ZgBCAs\">\n",
      "       ગુજરાતી\n",
      "      </a>\n",
      "      <a href=\"https://www.google.com/setprefs?sig=0_By4pbqoCOVaPjpe7F1aAxMnRqoI%3D&amp;hl=kn&amp;source=homepage&amp;sa=X&amp;ved=0ahUKEwioq5bF0vCMAxXakZUCHRleLLIQ2ZgBCAw\">\n",
      "       ಕನ್ನಡ\n",
      "      </a>\n",
      "      <a href=\"https://www.google.com/setprefs?sig=0_By4pbqoCOVaPjpe7F1aAxMnRqoI%3D&amp;hl=ml&amp;source=homepage&amp;sa=X&amp;ved=0ahUKEwioq5bF0vCMAxXakZUCHRleLLIQ2ZgBCA0\">\n",
      "       മലയാളം\n",
      "      </a>\n",
      "      <a href=\"https://www.google.com/setprefs?sig=0_By4pbqoCOVaPjpe7F1aAxMnRqoI%3D&amp;hl=pa&amp;source=homepage&amp;sa=X&amp;ved=0ahUKEwioq5bF0vCMAxXakZUCHRleLLIQ2ZgBCA4\">\n",
      "       ਪੰਜਾਬੀ\n",
      "      </a>\n",
      "     </div>\n",
      "    </div>\n",
      "   </div>\n",
      "   <span id=\"footer\">\n",
      "    <div style=\"font-size:10pt\">\n",
      "     <div id=\"WqQANb\" style=\"margin:19px auto;text-align:center\">\n",
      "      <a href=\"/intl/en/ads/\">\n",
      "       Advertising\n",
      "      </a>\n",
      "      <a href=\"http://www.google.co.in/services/\">\n",
      "       Business Solutions\n",
      "      </a>\n",
      "      <a href=\"/intl/en/about.html\">\n",
      "       About Google\n",
      "      </a>\n",
      "      <a href=\"https://www.google.com/setprefdomain?prefdom=IN&amp;prev=https://www.google.co.in/&amp;sig=K_zgsprXAUABTTaxHLI74Lu84fLXU%3D\">\n",
      "       Google.co.in\n",
      "      </a>\n",
      "     </div>\n",
      "    </div>\n",
      "    <p style=\"font-size:8pt;color:#70757a\">\n",
      "     © 2025 -\n",
      "     <a href=\"/intl/en/policies/privacy/\">\n",
      "      Privacy\n",
      "     </a>\n",
      "     -\n",
      "     <a href=\"/intl/en/policies/terms/\">\n",
      "      Terms\n",
      "     </a>\n",
      "    </p>\n",
      "   </span>\n",
      "  </center>\n",
      "  <script nonce=\"cgXlrtkVoUwFjX1HpsjIjQ\">\n",
      "   (function(){window.google.cdo={height:757,width:1440};(function(){var a=window.innerWidth,b=window.innerHeight;if(!a||!b){var c=window.document,d=c.compatMode==\"CSS1Compat\"?c.documentElement:c.body;a=d.clientWidth;b=d.clientHeight}if(a&&b&&(a!=google.cdo.width||b!=google.cdo.height)){var e=google,f=e.log,g=\"/client_204?&atyp=i&biw=\"+a+\"&bih=\"+b+\"&ei=\"+google.kEI,h=\"\",k=window.google&&window.google.kOPI||null;k&&(h+=\"&opi=\"+k);f.call(e,\"\",\"\",g+h)};}).call(this);})();(function(){google.xjs={basecomb:'/xjs/_/js/k\\x3dxjs.hp.en.QZqkiNuZhNE.es5.O/ck\\x3dxjs.hp.VdAoJ6_5Pes.L.X.O/am\\x3dAAAAAAAQAAAAAAAAAAAAAAAAAAAAAAAAAADAICgIAAABAAAAAAAAAAACAAigFAEQBwAAAEIACBAAAAAAAAAAAAAAAAAACQCAAAAAAgAAAIjvCAAIwCIAAF4/d\\x3d1/ed\\x3d1/dg\\x3d0/ujg\\x3d1/rs\\x3dACT90oEczZ3rgOiFFfUSbihsePcaE3mtlw',basecss:'/xjs/_/ss/k\\x3dxjs.hp.VdAoJ6_5Pes.L.X.O/am\\x3dAAAAAAAQAAAAAAAAAAAAAAAAAAAAAAAAAADAIAgIAAABAAAAAAAAAAACAAigFAAQAAAAAEIACBAAAAAAAAAAAAAAAAAACQCAAAAAAg/rs\\x3dACT90oG9lZKd9WZ_t3_Mycy68aUzmSO2Vg',basejs:'/xjs/_/js/k\\x3dxjs.hp.en.QZqkiNuZhNE.es5.O/am\\x3dAAAAAAAAAAAAAAAAAAAAAAAAAAAAAAAAAAAAACAAAAAAAAAAAAAAAAACAAAAAAEABwAAAAAAAAAAAAAAAAAAAAAAAAAAAAAAAAAAAAAAAIjvCAAIwCIAAF4/dg\\x3d0/rs\\x3dACT90oH17xb4US9XQcZsCJ2YBvMK7TESXw',excm:[]};})();(function(){var u='/xjs/_/js/k\\x3dxjs.hp.en.QZqkiNuZhNE.es5.O/am\\x3dAAAAAAAAAAAAAAAAAAAAAAAAAAAAAAAAAAAAACAAAAAAAAAAAAAAAAACAAAAAAEABwAAAAAAAAAAAAAAAAAAAAAAAAAAAAAAAAAAAAAAAIjvCAAIwCIAAF4/d\\x3d1/ed\\x3d1/dg\\x3d3/rs\\x3dACT90oH17xb4US9XQcZsCJ2YBvMK7TESXw/m\\x3dsb_he,d';var st=1;var amd=1000;var mmd=0;var pod=true;var pop=true;var povp=false;var fp='';\n",
      "var e=this||self;function f(){var b,a,d;if(a=b=(a=window.google)==null?void 0:(d=a.ia)==null?void 0:d.r.B2Jtyd)a=b.m,a=a===1||a===5;return a&&b.cbfd!=null&&b.cbvi!=null?b:void 0};function g(){var b=[u];if(!google.dp){for(var a=0;a<b.length;a++){var d=b[a],c=document.createElement(\"link\");c.as=\"script\";c.href=d;c.rel=\"preload\";document.body.appendChild(c)}google.dp=!0}};google.ps===void 0&&(google.ps=[]);function h(){var b=u,a=function(){};google.lx=google.stvsc?a:function(){k(b);google.lx=a};google.bx||google.lx()}function l(b,a){a&&(b.src=a);fp&&(b.fetchPriority=fp);var d=b.onload;b.onload=function(c){d&&d(c);google.ps=google.ps.filter(function(G){return b!==G})};google.ps.push(b);document.body.appendChild(b)}google.as=l;function k(b){google.timers&&google.timers.load&&google.tick&&google.tick(\"load\",\"xjsls\");var a=document.createElement(\"script\");a.onerror=function(){google.ple=1};a.onload=function(){google.ple=0};google.xjsus=void 0;l(a,b);google.aple=-1;google.dp=!0};function m(b){var a=b.getAttribute(\"jscontroller\");return(a===\"UBXHI\"||a===\"R3fhkb\"||a===\"TSZEqd\")&&b.hasAttribute(\"data-src\")}function n(){for(var b=document.getElementsByTagName(\"img\"),a=0,d=b.length;a<d;a++){var c=b[a];if(c.hasAttribute(\"data-lzy_\")&&Number(c.getAttribute(\"data-atf\"))&1&&!m(c))return!0}return!1}for(var p=document.getElementsByTagName(\"img\"),q=0,r=p.length;q<r;++q){var t=p[q];Number(t.getAttribute(\"data-atf\"))&1&&m(t)&&(t.src=t.getAttribute(\"data-src\"))};var w,x,y,z,A,B,C,D,E,F;function H(){google.xjsu=u;e._F_jsUrl=u;A=function(){h()};w=!1;x=(st===1||st===3)&&!!google.caft&&!n();y=f();z=(st===2||st===3)&&!!y&&!n();B=pod;C=pop;D=povp;E=pop&&document.prerendering||povp&&document.hidden;F=D?\"visibilitychange\":\"prerenderingchange\"}function I(){w||x||z||E||(A(),w=!0)}\n",
      "setTimeout(function(){google&&google.tick&&google.timers&&google.timers.load&&google.tick(\"load\",\"xjspls\");H();if(x||z||E){if(x){var b=function(){x=!1;I()};google.caft(b);window.setTimeout(b,amd)}z&&(b=function(){z=!1;I()},y.cbvi.push(b),window.setTimeout(b,mmd));if(E){var a=function(){(D?document.hidden:document.prerendering)||(E=!1,I(),document.removeEventListener(F,a))};document.addEventListener(F,a,{passive:!0})}if(B||C||D)w||g()}else A()},0);})();window._ = window._ || {};window._DumpException = _._DumpException = function(e){throw e;};window._s = window._s || {};_s._DumpException = _._DumpException;window._qs = window._qs || {};_qs._DumpException = _._DumpException;(function(){var t=[0,16384,0,0,0,0,0,34211888,65536,16384,742391808,673112064,252707092,134217729,16809988,8650752,0,0,36864,537018400,2,2342432,36454528,1540096];window._F_toggles = window._xjs_toggles = t;})();window._F_installCss = window._F_installCss || function(css){};(function(){google.jl={bfl:0,dw:false,ine:false,injs:'none',injt:0,injth:0,injv2:false,ubm:false,uwp:true,vs:false};})();(function(){var pmc='{\\x22d\\x22:{},\\x22sb_he\\x22:{\\x22client\\x22:\\x22heirloom-hp\\x22,\\x22dh\\x22:true,\\x22ds\\x22:\\x22\\x22,\\x22host\\x22:\\x22google.com\\x22,\\x22jsonp\\x22:true,\\x22msgs\\x22:{\\x22cibl\\x22:\\x22Clear Search\\x22,\\x22dym\\x22:\\x22Did you mean:\\x22,\\x22lcky\\x22:\\x22I\\\\u0026#39;m Feeling Lucky\\x22,\\x22lml\\x22:\\x22Learn more\\x22,\\x22psrc\\x22:\\x22This search was removed from your \\\\u003Ca href\\x3d\\\\\\x22/history\\\\\\x22\\\\u003EWeb History\\\\u003C/a\\\\u003E\\x22,\\x22psrl\\x22:\\x22Remove\\x22,\\x22sbit\\x22:\\x22Search by image\\x22,\\x22srch\\x22:\\x22Google Search\\x22},\\x22ovr\\x22:{},\\x22pq\\x22:\\x22\\x22,\\x22rfs\\x22:[],\\x22stok\\x22:\\x22WKpwYotEaEk1bkXIotyd0la23sw\\x22}}';google.pmc=JSON.parse(pmc);})();\n",
      "  </script>\n",
      " </body>\n",
      "</html>\n",
      "\n"
     ]
    }
   ],
   "source": [
    "soup = BeautifulSoup(web.content,\"html.parser\")\n",
    "print(soup.prettify())"
   ]
  },
  {
   "cell_type": "code",
   "execution_count": 6,
   "id": "17993e1b-0bf1-4ac8-8d1c-91e53664e40c",
   "metadata": {},
   "outputs": [
    {
     "data": {
      "text/plain": [
       "<p style=\"font-size:8pt;color:#70757a\">© 2025 - <a href=\"/intl/en/policies/privacy/\">Privacy</a> - <a href=\"/intl/en/policies/terms/\">Terms</a></p>"
      ]
     },
     "execution_count": 6,
     "metadata": {},
     "output_type": "execute_result"
    }
   ],
   "source": [
    "soup.find(\"p\")"
   ]
  },
  {
   "cell_type": "code",
   "execution_count": 8,
   "id": "b497110d-4384-4a65-85ca-0964fe80688d",
   "metadata": {},
   "outputs": [
    {
     "name": "stdout",
     "output_type": "stream",
     "text": [
      "© 2025 - Privacy - Terms\n"
     ]
    }
   ],
   "source": [
    "# soup.find_all(\"p\")\n",
    "for s in soup.find_all(\"p\"):\n",
    "    print(s.text)"
   ]
  },
  {
   "cell_type": "code",
   "execution_count": 10,
   "id": "9a0071f7-d7c8-4955-ac90-b6fce0710da6",
   "metadata": {
    "scrolled": true
   },
   "outputs": [
    {
     "data": {
      "text/plain": [
       "[<div id=\"mngb\"><div id=\"gbar\"><nobr><b class=\"gb1\">Search</b> <a class=\"gb1\" href=\"https://www.google.com/imghp?hl=en&amp;tab=wi\">Images</a> <a class=\"gb1\" href=\"https://maps.google.co.in/maps?hl=en&amp;tab=wl\">Maps</a> <a class=\"gb1\" href=\"https://play.google.com/?hl=en&amp;tab=w8\">Play</a> <a class=\"gb1\" href=\"https://www.youtube.com/?tab=w1\">YouTube</a> <a class=\"gb1\" href=\"https://news.google.com/?tab=wn\">News</a> <a class=\"gb1\" href=\"https://mail.google.com/mail/?tab=wm\">Gmail</a> <a class=\"gb1\" href=\"https://drive.google.com/?tab=wo\">Drive</a> <a class=\"gb1\" href=\"https://www.google.co.in/intl/en/about/products?tab=wh\" style=\"text-decoration:none\"><u>More</u> »</a></nobr></div><div id=\"guser\" width=\"100%\"><nobr><span class=\"gbi\" id=\"gbn\"></span><span class=\"gbf\" id=\"gbf\"></span><span id=\"gbe\"></span><a class=\"gb4\" href=\"http://www.google.co.in/history/optout?hl=en\">Web History</a> | <a class=\"gb4\" href=\"/preferences?hl=en\">Settings</a> | <a class=\"gb4\" href=\"https://accounts.google.com/ServiceLogin?hl=en&amp;passive=true&amp;continue=https://www.google.com/&amp;ec=GAZAAQ\" id=\"gb_70\" target=\"_top\">Sign in</a></nobr></div><div class=\"gbh\" style=\"left:0\"></div><div class=\"gbh\" style=\"right:0\"></div></div>,\n",
       " <div id=\"gbar\"><nobr><b class=\"gb1\">Search</b> <a class=\"gb1\" href=\"https://www.google.com/imghp?hl=en&amp;tab=wi\">Images</a> <a class=\"gb1\" href=\"https://maps.google.co.in/maps?hl=en&amp;tab=wl\">Maps</a> <a class=\"gb1\" href=\"https://play.google.com/?hl=en&amp;tab=w8\">Play</a> <a class=\"gb1\" href=\"https://www.youtube.com/?tab=w1\">YouTube</a> <a class=\"gb1\" href=\"https://news.google.com/?tab=wn\">News</a> <a class=\"gb1\" href=\"https://mail.google.com/mail/?tab=wm\">Gmail</a> <a class=\"gb1\" href=\"https://drive.google.com/?tab=wo\">Drive</a> <a class=\"gb1\" href=\"https://www.google.co.in/intl/en/about/products?tab=wh\" style=\"text-decoration:none\"><u>More</u> »</a></nobr></div>,\n",
       " <div id=\"guser\" width=\"100%\"><nobr><span class=\"gbi\" id=\"gbn\"></span><span class=\"gbf\" id=\"gbf\"></span><span id=\"gbe\"></span><a class=\"gb4\" href=\"http://www.google.co.in/history/optout?hl=en\">Web History</a> | <a class=\"gb4\" href=\"/preferences?hl=en\">Settings</a> | <a class=\"gb4\" href=\"https://accounts.google.com/ServiceLogin?hl=en&amp;passive=true&amp;continue=https://www.google.com/&amp;ec=GAZAAQ\" id=\"gb_70\" target=\"_top\">Sign in</a></nobr></div>,\n",
       " <div class=\"gbh\" style=\"left:0\"></div>,\n",
       " <div class=\"gbh\" style=\"right:0\"></div>,\n",
       " <div id=\"XjhHGf\"><a href=\"/search?sca_esv=b06c9e1a641d011b&amp;ie=UTF-8&amp;q=Lunar+phases&amp;oi=ddle&amp;noiga=1&amp;ct=408023878&amp;hl=en-GB&amp;sa=X&amp;ved=0ahUKEwioq5bF0vCMAxXakZUCHRleLLIQPQgD\"><img alt=\"Rise of the Half Moon\" border=\"0\" height=\"200\" id=\"hplogo\" src=\"/logos/doodles/2025/rise-of-the-half-moon-april-6753651837110767.2-l.png\" title=\"Rise of the Half Moon\" width=\"500\"/><br/></a><br/></div>,\n",
       " <div class=\"ds\" style=\"height:32px;margin:4px 0\"><input autocomplete=\"off\" class=\"lst\" maxlength=\"2048\" name=\"q\" size=\"57\" style=\"margin:0;padding:5px 8px 0 6px;vertical-align:top;color:#000\" title=\"Google Search\" value=\"\"/></div>,\n",
       " <div style=\"font-size:83%;min-height:3.5em\"><br/><div id=\"gws-output-pages-elements-homepage_additional_languages__als\"><style>#gws-output-pages-elements-homepage_additional_languages__als{font-size:small;margin-bottom:24px}#SIvCob{color:#474747;display:inline-block;line-height:28px;}#SIvCob a{padding:0 3px;}.H6sW5{display:inline-block;margin:0 2px;white-space:nowrap}.z4hgWe{display:inline-block;margin:0 2px}</style><div id=\"SIvCob\">Google offered in:  <a href=\"https://www.google.com/setprefs?sig=0_By4pbqoCOVaPjpe7F1aAxMnRqoI%3D&amp;hl=hi&amp;source=homepage&amp;sa=X&amp;ved=0ahUKEwioq5bF0vCMAxXakZUCHRleLLIQ2ZgBCAY\">हिन्दी</a> <a href=\"https://www.google.com/setprefs?sig=0_By4pbqoCOVaPjpe7F1aAxMnRqoI%3D&amp;hl=bn&amp;source=homepage&amp;sa=X&amp;ved=0ahUKEwioq5bF0vCMAxXakZUCHRleLLIQ2ZgBCAc\">বাংলা</a> <a href=\"https://www.google.com/setprefs?sig=0_By4pbqoCOVaPjpe7F1aAxMnRqoI%3D&amp;hl=te&amp;source=homepage&amp;sa=X&amp;ved=0ahUKEwioq5bF0vCMAxXakZUCHRleLLIQ2ZgBCAg\">తెలుగు</a> <a href=\"https://www.google.com/setprefs?sig=0_By4pbqoCOVaPjpe7F1aAxMnRqoI%3D&amp;hl=mr&amp;source=homepage&amp;sa=X&amp;ved=0ahUKEwioq5bF0vCMAxXakZUCHRleLLIQ2ZgBCAk\">मराठी</a> <a href=\"https://www.google.com/setprefs?sig=0_By4pbqoCOVaPjpe7F1aAxMnRqoI%3D&amp;hl=ta&amp;source=homepage&amp;sa=X&amp;ved=0ahUKEwioq5bF0vCMAxXakZUCHRleLLIQ2ZgBCAo\">தமிழ்</a> <a href=\"https://www.google.com/setprefs?sig=0_By4pbqoCOVaPjpe7F1aAxMnRqoI%3D&amp;hl=gu&amp;source=homepage&amp;sa=X&amp;ved=0ahUKEwioq5bF0vCMAxXakZUCHRleLLIQ2ZgBCAs\">ગુજરાતી</a> <a href=\"https://www.google.com/setprefs?sig=0_By4pbqoCOVaPjpe7F1aAxMnRqoI%3D&amp;hl=kn&amp;source=homepage&amp;sa=X&amp;ved=0ahUKEwioq5bF0vCMAxXakZUCHRleLLIQ2ZgBCAw\">ಕನ್ನಡ</a> <a href=\"https://www.google.com/setprefs?sig=0_By4pbqoCOVaPjpe7F1aAxMnRqoI%3D&amp;hl=ml&amp;source=homepage&amp;sa=X&amp;ved=0ahUKEwioq5bF0vCMAxXakZUCHRleLLIQ2ZgBCA0\">മലയാളം</a> <a href=\"https://www.google.com/setprefs?sig=0_By4pbqoCOVaPjpe7F1aAxMnRqoI%3D&amp;hl=pa&amp;source=homepage&amp;sa=X&amp;ved=0ahUKEwioq5bF0vCMAxXakZUCHRleLLIQ2ZgBCA4\">ਪੰਜਾਬੀ</a> </div></div></div>,\n",
       " <div id=\"gws-output-pages-elements-homepage_additional_languages__als\"><style>#gws-output-pages-elements-homepage_additional_languages__als{font-size:small;margin-bottom:24px}#SIvCob{color:#474747;display:inline-block;line-height:28px;}#SIvCob a{padding:0 3px;}.H6sW5{display:inline-block;margin:0 2px;white-space:nowrap}.z4hgWe{display:inline-block;margin:0 2px}</style><div id=\"SIvCob\">Google offered in:  <a href=\"https://www.google.com/setprefs?sig=0_By4pbqoCOVaPjpe7F1aAxMnRqoI%3D&amp;hl=hi&amp;source=homepage&amp;sa=X&amp;ved=0ahUKEwioq5bF0vCMAxXakZUCHRleLLIQ2ZgBCAY\">हिन्दी</a> <a href=\"https://www.google.com/setprefs?sig=0_By4pbqoCOVaPjpe7F1aAxMnRqoI%3D&amp;hl=bn&amp;source=homepage&amp;sa=X&amp;ved=0ahUKEwioq5bF0vCMAxXakZUCHRleLLIQ2ZgBCAc\">বাংলা</a> <a href=\"https://www.google.com/setprefs?sig=0_By4pbqoCOVaPjpe7F1aAxMnRqoI%3D&amp;hl=te&amp;source=homepage&amp;sa=X&amp;ved=0ahUKEwioq5bF0vCMAxXakZUCHRleLLIQ2ZgBCAg\">తెలుగు</a> <a href=\"https://www.google.com/setprefs?sig=0_By4pbqoCOVaPjpe7F1aAxMnRqoI%3D&amp;hl=mr&amp;source=homepage&amp;sa=X&amp;ved=0ahUKEwioq5bF0vCMAxXakZUCHRleLLIQ2ZgBCAk\">मराठी</a> <a href=\"https://www.google.com/setprefs?sig=0_By4pbqoCOVaPjpe7F1aAxMnRqoI%3D&amp;hl=ta&amp;source=homepage&amp;sa=X&amp;ved=0ahUKEwioq5bF0vCMAxXakZUCHRleLLIQ2ZgBCAo\">தமிழ்</a> <a href=\"https://www.google.com/setprefs?sig=0_By4pbqoCOVaPjpe7F1aAxMnRqoI%3D&amp;hl=gu&amp;source=homepage&amp;sa=X&amp;ved=0ahUKEwioq5bF0vCMAxXakZUCHRleLLIQ2ZgBCAs\">ગુજરાતી</a> <a href=\"https://www.google.com/setprefs?sig=0_By4pbqoCOVaPjpe7F1aAxMnRqoI%3D&amp;hl=kn&amp;source=homepage&amp;sa=X&amp;ved=0ahUKEwioq5bF0vCMAxXakZUCHRleLLIQ2ZgBCAw\">ಕನ್ನಡ</a> <a href=\"https://www.google.com/setprefs?sig=0_By4pbqoCOVaPjpe7F1aAxMnRqoI%3D&amp;hl=ml&amp;source=homepage&amp;sa=X&amp;ved=0ahUKEwioq5bF0vCMAxXakZUCHRleLLIQ2ZgBCA0\">മലയാളം</a> <a href=\"https://www.google.com/setprefs?sig=0_By4pbqoCOVaPjpe7F1aAxMnRqoI%3D&amp;hl=pa&amp;source=homepage&amp;sa=X&amp;ved=0ahUKEwioq5bF0vCMAxXakZUCHRleLLIQ2ZgBCA4\">ਪੰਜਾਬੀ</a> </div></div>,\n",
       " <div id=\"SIvCob\">Google offered in:  <a href=\"https://www.google.com/setprefs?sig=0_By4pbqoCOVaPjpe7F1aAxMnRqoI%3D&amp;hl=hi&amp;source=homepage&amp;sa=X&amp;ved=0ahUKEwioq5bF0vCMAxXakZUCHRleLLIQ2ZgBCAY\">हिन्दी</a> <a href=\"https://www.google.com/setprefs?sig=0_By4pbqoCOVaPjpe7F1aAxMnRqoI%3D&amp;hl=bn&amp;source=homepage&amp;sa=X&amp;ved=0ahUKEwioq5bF0vCMAxXakZUCHRleLLIQ2ZgBCAc\">বাংলা</a> <a href=\"https://www.google.com/setprefs?sig=0_By4pbqoCOVaPjpe7F1aAxMnRqoI%3D&amp;hl=te&amp;source=homepage&amp;sa=X&amp;ved=0ahUKEwioq5bF0vCMAxXakZUCHRleLLIQ2ZgBCAg\">తెలుగు</a> <a href=\"https://www.google.com/setprefs?sig=0_By4pbqoCOVaPjpe7F1aAxMnRqoI%3D&amp;hl=mr&amp;source=homepage&amp;sa=X&amp;ved=0ahUKEwioq5bF0vCMAxXakZUCHRleLLIQ2ZgBCAk\">मराठी</a> <a href=\"https://www.google.com/setprefs?sig=0_By4pbqoCOVaPjpe7F1aAxMnRqoI%3D&amp;hl=ta&amp;source=homepage&amp;sa=X&amp;ved=0ahUKEwioq5bF0vCMAxXakZUCHRleLLIQ2ZgBCAo\">தமிழ்</a> <a href=\"https://www.google.com/setprefs?sig=0_By4pbqoCOVaPjpe7F1aAxMnRqoI%3D&amp;hl=gu&amp;source=homepage&amp;sa=X&amp;ved=0ahUKEwioq5bF0vCMAxXakZUCHRleLLIQ2ZgBCAs\">ગુજરાતી</a> <a href=\"https://www.google.com/setprefs?sig=0_By4pbqoCOVaPjpe7F1aAxMnRqoI%3D&amp;hl=kn&amp;source=homepage&amp;sa=X&amp;ved=0ahUKEwioq5bF0vCMAxXakZUCHRleLLIQ2ZgBCAw\">ಕನ್ನಡ</a> <a href=\"https://www.google.com/setprefs?sig=0_By4pbqoCOVaPjpe7F1aAxMnRqoI%3D&amp;hl=ml&amp;source=homepage&amp;sa=X&amp;ved=0ahUKEwioq5bF0vCMAxXakZUCHRleLLIQ2ZgBCA0\">മലയാളം</a> <a href=\"https://www.google.com/setprefs?sig=0_By4pbqoCOVaPjpe7F1aAxMnRqoI%3D&amp;hl=pa&amp;source=homepage&amp;sa=X&amp;ved=0ahUKEwioq5bF0vCMAxXakZUCHRleLLIQ2ZgBCA4\">ਪੰਜਾਬੀ</a> </div>,\n",
       " <div style=\"font-size:10pt\"><div id=\"WqQANb\" style=\"margin:19px auto;text-align:center\"><a href=\"/intl/en/ads/\">Advertising</a><a href=\"http://www.google.co.in/services/\">Business Solutions</a><a href=\"/intl/en/about.html\">About Google</a><a href=\"https://www.google.com/setprefdomain?prefdom=IN&amp;prev=https://www.google.co.in/&amp;sig=K_zgsprXAUABTTaxHLI74Lu84fLXU%3D\">Google.co.in</a></div></div>,\n",
       " <div id=\"WqQANb\" style=\"margin:19px auto;text-align:center\"><a href=\"/intl/en/ads/\">Advertising</a><a href=\"http://www.google.co.in/services/\">Business Solutions</a><a href=\"/intl/en/about.html\">About Google</a><a href=\"https://www.google.com/setprefdomain?prefdom=IN&amp;prev=https://www.google.co.in/&amp;sig=K_zgsprXAUABTTaxHLI74Lu84fLXU%3D\">Google.co.in</a></div>]"
      ]
     },
     "execution_count": 10,
     "metadata": {},
     "output_type": "execute_result"
    }
   ],
   "source": [
    "soup.find_all(\"div\")"
   ]
  },
  {
   "cell_type": "code",
   "execution_count": 11,
   "id": "ecb1cbdd-7029-4b71-97f5-65bc106cd8be",
   "metadata": {},
   "outputs": [
    {
     "name": "stdout",
     "output_type": "stream",
     "text": [
      "Search Images Maps Play YouTube News Gmail Drive More »Web History | Settings | Sign in\n",
      "Search Images Maps Play YouTube News Gmail Drive More »\n",
      "Web History | Settings | Sign in\n",
      "\n",
      "\n",
      "\n",
      "\n",
      "Google offered in:  हिन्दी বাংলা తెలుగు मराठी தமிழ் ગુજરાતી ಕನ್ನಡ മലയാളം ਪੰਜਾਬੀ \n",
      "Google offered in:  हिन्दी বাংলা తెలుగు मराठी தமிழ் ગુજરાતી ಕನ್ನಡ മലയാളം ਪੰਜਾਬੀ \n",
      "Google offered in:  हिन्दी বাংলা తెలుగు मराठी தமிழ் ગુજરાતી ಕನ್ನಡ മലയാളം ਪੰਜਾਬੀ \n",
      "AdvertisingBusiness SolutionsAbout GoogleGoogle.co.in\n",
      "AdvertisingBusiness SolutionsAbout GoogleGoogle.co.in\n"
     ]
    }
   ],
   "source": [
    "for s in soup.find_all(\"div\"):\n",
    "    print(s.text)"
   ]
  },
  {
   "cell_type": "code",
   "execution_count": 12,
   "id": "1d8e5ed1-e29b-40f0-95be-60af0c21fcfa",
   "metadata": {
    "scrolled": true
   },
   "outputs": [
    {
     "data": {
      "text/plain": [
       "[<a class=\"gb1\" href=\"https://www.google.com/imghp?hl=en&amp;tab=wi\">Images</a>,\n",
       " <a class=\"gb1\" href=\"https://maps.google.co.in/maps?hl=en&amp;tab=wl\">Maps</a>,\n",
       " <a class=\"gb1\" href=\"https://play.google.com/?hl=en&amp;tab=w8\">Play</a>,\n",
       " <a class=\"gb1\" href=\"https://www.youtube.com/?tab=w1\">YouTube</a>,\n",
       " <a class=\"gb1\" href=\"https://news.google.com/?tab=wn\">News</a>,\n",
       " <a class=\"gb1\" href=\"https://mail.google.com/mail/?tab=wm\">Gmail</a>,\n",
       " <a class=\"gb1\" href=\"https://drive.google.com/?tab=wo\">Drive</a>,\n",
       " <a class=\"gb1\" href=\"https://www.google.co.in/intl/en/about/products?tab=wh\" style=\"text-decoration:none\"><u>More</u> »</a>,\n",
       " <a class=\"gb4\" href=\"http://www.google.co.in/history/optout?hl=en\">Web History</a>,\n",
       " <a class=\"gb4\" href=\"/preferences?hl=en\">Settings</a>,\n",
       " <a class=\"gb4\" href=\"https://accounts.google.com/ServiceLogin?hl=en&amp;passive=true&amp;continue=https://www.google.com/&amp;ec=GAZAAQ\" id=\"gb_70\" target=\"_top\">Sign in</a>,\n",
       " <a href=\"/search?sca_esv=b06c9e1a641d011b&amp;ie=UTF-8&amp;q=Lunar+phases&amp;oi=ddle&amp;noiga=1&amp;ct=408023878&amp;hl=en-GB&amp;sa=X&amp;ved=0ahUKEwioq5bF0vCMAxXakZUCHRleLLIQPQgD\"><img alt=\"Rise of the Half Moon\" border=\"0\" height=\"200\" id=\"hplogo\" src=\"/logos/doodles/2025/rise-of-the-half-moon-april-6753651837110767.2-l.png\" title=\"Rise of the Half Moon\" width=\"500\"/><br/></a>,\n",
       " <a href=\"/advanced_search?hl=en-IN&amp;authuser=0\">Advanced search</a>,\n",
       " <a href=\"https://www.google.com/setprefs?sig=0_By4pbqoCOVaPjpe7F1aAxMnRqoI%3D&amp;hl=hi&amp;source=homepage&amp;sa=X&amp;ved=0ahUKEwioq5bF0vCMAxXakZUCHRleLLIQ2ZgBCAY\">हिन्दी</a>,\n",
       " <a href=\"https://www.google.com/setprefs?sig=0_By4pbqoCOVaPjpe7F1aAxMnRqoI%3D&amp;hl=bn&amp;source=homepage&amp;sa=X&amp;ved=0ahUKEwioq5bF0vCMAxXakZUCHRleLLIQ2ZgBCAc\">বাংলা</a>,\n",
       " <a href=\"https://www.google.com/setprefs?sig=0_By4pbqoCOVaPjpe7F1aAxMnRqoI%3D&amp;hl=te&amp;source=homepage&amp;sa=X&amp;ved=0ahUKEwioq5bF0vCMAxXakZUCHRleLLIQ2ZgBCAg\">తెలుగు</a>,\n",
       " <a href=\"https://www.google.com/setprefs?sig=0_By4pbqoCOVaPjpe7F1aAxMnRqoI%3D&amp;hl=mr&amp;source=homepage&amp;sa=X&amp;ved=0ahUKEwioq5bF0vCMAxXakZUCHRleLLIQ2ZgBCAk\">मराठी</a>,\n",
       " <a href=\"https://www.google.com/setprefs?sig=0_By4pbqoCOVaPjpe7F1aAxMnRqoI%3D&amp;hl=ta&amp;source=homepage&amp;sa=X&amp;ved=0ahUKEwioq5bF0vCMAxXakZUCHRleLLIQ2ZgBCAo\">தமிழ்</a>,\n",
       " <a href=\"https://www.google.com/setprefs?sig=0_By4pbqoCOVaPjpe7F1aAxMnRqoI%3D&amp;hl=gu&amp;source=homepage&amp;sa=X&amp;ved=0ahUKEwioq5bF0vCMAxXakZUCHRleLLIQ2ZgBCAs\">ગુજરાતી</a>,\n",
       " <a href=\"https://www.google.com/setprefs?sig=0_By4pbqoCOVaPjpe7F1aAxMnRqoI%3D&amp;hl=kn&amp;source=homepage&amp;sa=X&amp;ved=0ahUKEwioq5bF0vCMAxXakZUCHRleLLIQ2ZgBCAw\">ಕನ್ನಡ</a>,\n",
       " <a href=\"https://www.google.com/setprefs?sig=0_By4pbqoCOVaPjpe7F1aAxMnRqoI%3D&amp;hl=ml&amp;source=homepage&amp;sa=X&amp;ved=0ahUKEwioq5bF0vCMAxXakZUCHRleLLIQ2ZgBCA0\">മലയാളം</a>,\n",
       " <a href=\"https://www.google.com/setprefs?sig=0_By4pbqoCOVaPjpe7F1aAxMnRqoI%3D&amp;hl=pa&amp;source=homepage&amp;sa=X&amp;ved=0ahUKEwioq5bF0vCMAxXakZUCHRleLLIQ2ZgBCA4\">ਪੰਜਾਬੀ</a>,\n",
       " <a href=\"/intl/en/ads/\">Advertising</a>,\n",
       " <a href=\"http://www.google.co.in/services/\">Business Solutions</a>,\n",
       " <a href=\"/intl/en/about.html\">About Google</a>,\n",
       " <a href=\"https://www.google.com/setprefdomain?prefdom=IN&amp;prev=https://www.google.co.in/&amp;sig=K_zgsprXAUABTTaxHLI74Lu84fLXU%3D\">Google.co.in</a>,\n",
       " <a href=\"/intl/en/policies/privacy/\">Privacy</a>,\n",
       " <a href=\"/intl/en/policies/terms/\">Terms</a>]"
      ]
     },
     "execution_count": 12,
     "metadata": {},
     "output_type": "execute_result"
    }
   ],
   "source": [
    "soup.find_all(\"a\")"
   ]
  },
  {
   "cell_type": "code",
   "execution_count": 16,
   "id": "d2fcf09b-69e6-461b-ab59-2795908b858d",
   "metadata": {
    "scrolled": true
   },
   "outputs": [
    {
     "name": "stdout",
     "output_type": "stream",
     "text": [
      "https://www.google.com/imghp?hl=en&tab=wi\n",
      "https://maps.google.co.in/maps?hl=en&tab=wl\n",
      "https://play.google.com/?hl=en&tab=w8\n",
      "https://www.youtube.com/?tab=w1\n",
      "https://news.google.com/?tab=wn\n",
      "https://mail.google.com/mail/?tab=wm\n",
      "https://drive.google.com/?tab=wo\n",
      "https://www.google.co.in/intl/en/about/products?tab=wh\n",
      "http://www.google.co.in/history/optout?hl=en\n",
      "/preferences?hl=en\n",
      "https://accounts.google.com/ServiceLogin?hl=en&passive=true&continue=https://www.google.com/&ec=GAZAAQ\n",
      "/search?sca_esv=b06c9e1a641d011b&ie=UTF-8&q=Lunar+phases&oi=ddle&noiga=1&ct=408023878&hl=en-GB&sa=X&ved=0ahUKEwioq5bF0vCMAxXakZUCHRleLLIQPQgD\n",
      "/advanced_search?hl=en-IN&authuser=0\n",
      "https://www.google.com/setprefs?sig=0_By4pbqoCOVaPjpe7F1aAxMnRqoI%3D&hl=hi&source=homepage&sa=X&ved=0ahUKEwioq5bF0vCMAxXakZUCHRleLLIQ2ZgBCAY\n",
      "https://www.google.com/setprefs?sig=0_By4pbqoCOVaPjpe7F1aAxMnRqoI%3D&hl=bn&source=homepage&sa=X&ved=0ahUKEwioq5bF0vCMAxXakZUCHRleLLIQ2ZgBCAc\n",
      "https://www.google.com/setprefs?sig=0_By4pbqoCOVaPjpe7F1aAxMnRqoI%3D&hl=te&source=homepage&sa=X&ved=0ahUKEwioq5bF0vCMAxXakZUCHRleLLIQ2ZgBCAg\n",
      "https://www.google.com/setprefs?sig=0_By4pbqoCOVaPjpe7F1aAxMnRqoI%3D&hl=mr&source=homepage&sa=X&ved=0ahUKEwioq5bF0vCMAxXakZUCHRleLLIQ2ZgBCAk\n",
      "https://www.google.com/setprefs?sig=0_By4pbqoCOVaPjpe7F1aAxMnRqoI%3D&hl=ta&source=homepage&sa=X&ved=0ahUKEwioq5bF0vCMAxXakZUCHRleLLIQ2ZgBCAo\n",
      "https://www.google.com/setprefs?sig=0_By4pbqoCOVaPjpe7F1aAxMnRqoI%3D&hl=gu&source=homepage&sa=X&ved=0ahUKEwioq5bF0vCMAxXakZUCHRleLLIQ2ZgBCAs\n",
      "https://www.google.com/setprefs?sig=0_By4pbqoCOVaPjpe7F1aAxMnRqoI%3D&hl=kn&source=homepage&sa=X&ved=0ahUKEwioq5bF0vCMAxXakZUCHRleLLIQ2ZgBCAw\n",
      "https://www.google.com/setprefs?sig=0_By4pbqoCOVaPjpe7F1aAxMnRqoI%3D&hl=ml&source=homepage&sa=X&ved=0ahUKEwioq5bF0vCMAxXakZUCHRleLLIQ2ZgBCA0\n",
      "https://www.google.com/setprefs?sig=0_By4pbqoCOVaPjpe7F1aAxMnRqoI%3D&hl=pa&source=homepage&sa=X&ved=0ahUKEwioq5bF0vCMAxXakZUCHRleLLIQ2ZgBCA4\n",
      "/intl/en/ads/\n",
      "http://www.google.co.in/services/\n",
      "/intl/en/about.html\n",
      "https://www.google.com/setprefdomain?prefdom=IN&prev=https://www.google.co.in/&sig=K_zgsprXAUABTTaxHLI74Lu84fLXU%3D\n",
      "/intl/en/policies/privacy/\n",
      "/intl/en/policies/terms/\n"
     ]
    }
   ],
   "source": [
    "for s in soup.find_all(\"a\"):\n",
    "    print(s.get(\"href\"))"
   ]
  },
  {
   "cell_type": "code",
   "execution_count": 17,
   "id": "f1d7a220-a279-4493-addf-72fce00678d7",
   "metadata": {},
   "outputs": [
    {
     "data": {
      "text/plain": [
       "[<img alt=\"Rise of the Half Moon\" border=\"0\" height=\"200\" id=\"hplogo\" src=\"/logos/doodles/2025/rise-of-the-half-moon-april-6753651837110767.2-l.png\" title=\"Rise of the Half Moon\" width=\"500\"/>]"
      ]
     },
     "execution_count": 17,
     "metadata": {},
     "output_type": "execute_result"
    }
   ],
   "source": [
    "soup.find_all(\"img\")"
   ]
  },
  {
   "cell_type": "code",
   "execution_count": 18,
   "id": "a112e3f7-5956-43f6-b3f2-8bc4a99be319",
   "metadata": {},
   "outputs": [
    {
     "name": "stdout",
     "output_type": "stream",
     "text": [
      "/logos/doodles/2025/rise-of-the-half-moon-april-6753651837110767.2-l.png\n"
     ]
    }
   ],
   "source": [
    "for s in soup.find_all(\"img\"):\n",
    "    print(s.get(\"src\"))"
   ]
  },
  {
   "cell_type": "code",
   "execution_count": null,
   "id": "74f79039-8e1b-4076-9615-a9712df66ee8",
   "metadata": {},
   "outputs": [],
   "source": []
  }
 ],
 "metadata": {
  "kernelspec": {
   "display_name": "Python 3 (ipykernel)",
   "language": "python",
   "name": "python3"
  },
  "language_info": {
   "codemirror_mode": {
    "name": "ipython",
    "version": 3
   },
   "file_extension": ".py",
   "mimetype": "text/x-python",
   "name": "python",
   "nbconvert_exporter": "python",
   "pygments_lexer": "ipython3",
   "version": "3.13.3"
  }
 },
 "nbformat": 4,
 "nbformat_minor": 5
}
