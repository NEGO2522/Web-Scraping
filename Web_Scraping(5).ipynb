{
 "cells": [
  {
   "cell_type": "code",
   "execution_count": 1,
   "id": "a19e4e1a-1f80-4147-96a4-3ad883b62816",
   "metadata": {},
   "outputs": [],
   "source": [
    "import requests\n",
    "from bs4 import BeautifulSoup"
   ]
  },
  {
   "cell_type": "code",
   "execution_count": 2,
   "id": "839784c2-d798-4d51-9e26-0f4920e47da7",
   "metadata": {},
   "outputs": [
    {
     "data": {
      "text/plain": [
       "<Response [200]>"
      ]
     },
     "execution_count": 2,
     "metadata": {},
     "output_type": "execute_result"
    }
   ],
   "source": [
    "web = requests.get(\"https://www.tutorialsfreak.com\")\n",
    "web"
   ]
  },
  {
   "cell_type": "code",
   "execution_count": 5,
   "id": "2b47677b-2618-4d22-b48f-cc2d73a7ba6b",
   "metadata": {
    "scrolled": true
   },
   "outputs": [],
   "source": [
    "soup = BeautifulSoup(web.content,\"html.parser\")\n",
    "# print(soup.prettify())"
   ]
  },
  {
   "cell_type": "code",
   "execution_count": 8,
   "id": "0baebdd5-aa93-40de-a15e-ff36b7267a9b",
   "metadata": {},
   "outputs": [
    {
     "name": "stdout",
     "output_type": "stream",
     "text": [
      "Kickstart effective learning with Tutorials Freak, with new content published every day.\n",
      "The entire content on the site is verified by pro developers and tech freaks.\n",
      "The entire content on the site is verified by pro developers and tech freaks. Enabling self-directed learning so that you can learn at your pace and shape your own path.\n",
      "Along with simplified tutorials, you get video content created by industry experts.\n",
      "Learning programming and technical things can be complex. We are here to make it easy with simple and interactive tutorials.\n",
      "Learning programming and technical things can be complex. We are here to make it easy with simple and interactive tutorials.\n",
      "Explore the expert-curated interview questions with answers.\n",
      "Plenty of quizzes with time duration and skill assessment.\n",
      "Find coding examples with programs, output, easy explanations, and videos.\n",
      "\n",
      "With an account, you get access to premium content and courses at no cost.\n",
      "Download the app now to learn and practice hassle-free.\n",
      "©  Tutorials Freak . All Rights Reserved | Design By  WsCube Tech\n"
     ]
    }
   ],
   "source": [
    "lines = soup.find_all(\"p\")\n",
    "for l in lines:\n",
    "    print(l.text)"
   ]
  },
  {
   "cell_type": "code",
   "execution_count": 7,
   "id": "72012cee-5b84-4bdc-bcad-2a915714d695",
   "metadata": {},
   "outputs": [
    {
     "data": {
      "text/plain": [
       "[<p class=\"section-subheading\">Kickstart effective learning with Tutorials Freak, with new content published every day.</p>,\n",
       " <p class=\"fs-16 fw-400 lh-24 label-color-1 card-text\">The entire content on the site is verified by pro developers and tech freaks.</p>,\n",
       " <p class=\"fs-16 fw-400 lh-24 label-color-1 card-text\">The entire content on the site is verified by pro developers and tech freaks. Enabling self-directed learning so that you can learn at your pace and shape your own path.</p>,\n",
       " <p class=\"fs-16 fw-400 lh-24 label-color-1 card-text\">Along with simplified tutorials, you get video content created by industry experts.</p>,\n",
       " <p class=\"fw-400 fs-20 lh-30 label-color-2 mb-lg-5\">Learning programming and technical things can be complex. We are here to make it easy with simple and interactive tutorials.</p>,\n",
       " <p class=\"section-subheading mb-0\">Learning programming and technical things can be complex. We are here to make it easy with simple and interactive tutorials.</p>,\n",
       " <p class=\"section-subheading mb-0\">Explore the expert-curated interview questions with answers.</p>,\n",
       " <p class=\"section-subheading mb-0\">Plenty of quizzes with time duration and skill assessment.</p>,\n",
       " <p class=\"section-subheading mb-0\">Find coding examples with programs, output, easy explanations, and videos.</p>,\n",
       " <p class=\"section-subheading mb-0\"><img class=\"img-fluid\" height=\"40\" src=\"/images/ws-cube-tech-logo.svg\" width=\"210\"/></p>,\n",
       " <p class=\"section-subheading pb-lg-5\">With an account, you get access to premium content and courses at no cost.</p>,\n",
       " <p class=\"section-subheading pe-md-5\">Download the app now to learn and practice hassle-free.</p>,\n",
       " <p class=\"fs-13 lh-24 label-color-1 mb-0 footer-content fw-500 text-center text-lg-end\">© <!-- --> Tutorials Freak . All Rights Reserved | Design By  <a class=\"text-decoration-none label-color-1 fw-400\" href=\"https://www.wscubetech.com/\" rel=\"noreferrer\" target=\"_blank\" title=\"WsCube Tech\">WsCube Tech</a></p>]"
      ]
     },
     "execution_count": 7,
     "metadata": {},
     "output_type": "execute_result"
    }
   ],
   "source": [
    "lines"
   ]
  },
  {
   "cell_type": "code",
   "execution_count": null,
   "id": "ebcc234a-b682-411b-aabf-a59113b4f10f",
   "metadata": {},
   "outputs": [],
   "source": []
  }
 ],
 "metadata": {
  "kernelspec": {
   "display_name": "Python 3 (ipykernel)",
   "language": "python",
   "name": "python3"
  },
  "language_info": {
   "codemirror_mode": {
    "name": "ipython",
    "version": 3
   },
   "file_extension": ".py",
   "mimetype": "text/x-python",
   "name": "python",
   "nbconvert_exporter": "python",
   "pygments_lexer": "ipython3",
   "version": "3.13.3"
  }
 },
 "nbformat": 4,
 "nbformat_minor": 5
}
